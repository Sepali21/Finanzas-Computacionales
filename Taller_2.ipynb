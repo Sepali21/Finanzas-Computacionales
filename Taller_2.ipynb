{
  "nbformat": 4,
  "nbformat_minor": 0,
  "metadata": {
    "colab": {
      "provenance": [],
      "collapsed_sections": [],
      "include_colab_link": true
    },
    "kernelspec": {
      "name": "python3",
      "display_name": "Python 3"
    },
    "language_info": {
      "name": "python"
    }
  },
  "cells": [
    {
      "cell_type": "markdown",
      "metadata": {
        "id": "view-in-github",
        "colab_type": "text"
      },
      "source": [
        "<a href=\"https://colab.research.google.com/github/Sepali21/Finanzas-Computacionales/blob/main/Taller_2.ipynb\" target=\"_parent\"><img src=\"https://colab.research.google.com/assets/colab-badge.svg\" alt=\"Open In Colab\"/></a>"
      ]
    },
    {
      "cell_type": "markdown",
      "source": [
        "# **Taller N2**\n",
        "\n",
        "Cristian Vega \n",
        "\n",
        "Sebastián Párraga"
      ],
      "metadata": {
        "id": "eayevZf1UFkr"
      }
    },
    {
      "cell_type": "markdown",
      "source": [
        "**Punto 1**"
      ],
      "metadata": {
        "id": "6NtpFSG4Uf67"
      }
    },
    {
      "cell_type": "code",
      "source": [
        "import numpy as np\n",
        "import pandas as pd\n",
        "import matplotlib.pyplot as plt\n",
        "from scipy.optimize import minimize\n",
        "from scipy.optimize import linprog\n",
        "!pip install yfinance\n",
        "import yfinance as yf\n",
        "import cvxpy as cp\n",
        "from scipy import stats\n",
        "import warnings\n",
        "warnings.filterwarnings(\"ignore\")"
      ],
      "metadata": {
        "colab": {
          "base_uri": "https://localhost:8080/"
        },
        "id": "Dt5xWE-kUNIa",
        "outputId": "842d5bb3-efc9-4533-fee5-e7ac7591ff50"
      },
      "execution_count": null,
      "outputs": [
        {
          "output_type": "stream",
          "name": "stdout",
          "text": [
            "Looking in indexes: https://pypi.org/simple, https://us-python.pkg.dev/colab-wheels/public/simple/\n",
            "Requirement already satisfied: yfinance in /usr/local/lib/python3.7/dist-packages (0.1.74)\n",
            "Requirement already satisfied: pandas>=0.24.0 in /usr/local/lib/python3.7/dist-packages (from yfinance) (1.3.5)\n",
            "Requirement already satisfied: lxml>=4.5.1 in /usr/local/lib/python3.7/dist-packages (from yfinance) (4.9.1)\n",
            "Requirement already satisfied: numpy>=1.15 in /usr/local/lib/python3.7/dist-packages (from yfinance) (1.21.6)\n",
            "Requirement already satisfied: multitasking>=0.0.7 in /usr/local/lib/python3.7/dist-packages (from yfinance) (0.0.11)\n",
            "Requirement already satisfied: requests>=2.26 in /usr/local/lib/python3.7/dist-packages (from yfinance) (2.28.1)\n",
            "Requirement already satisfied: python-dateutil>=2.7.3 in /usr/local/lib/python3.7/dist-packages (from pandas>=0.24.0->yfinance) (2.8.2)\n",
            "Requirement already satisfied: pytz>=2017.3 in /usr/local/lib/python3.7/dist-packages (from pandas>=0.24.0->yfinance) (2022.2.1)\n",
            "Requirement already satisfied: six>=1.5 in /usr/local/lib/python3.7/dist-packages (from python-dateutil>=2.7.3->pandas>=0.24.0->yfinance) (1.15.0)\n",
            "Requirement already satisfied: urllib3<1.27,>=1.21.1 in /usr/local/lib/python3.7/dist-packages (from requests>=2.26->yfinance) (1.24.3)\n",
            "Requirement already satisfied: idna<4,>=2.5 in /usr/local/lib/python3.7/dist-packages (from requests>=2.26->yfinance) (2.10)\n",
            "Requirement already satisfied: certifi>=2017.4.17 in /usr/local/lib/python3.7/dist-packages (from requests>=2.26->yfinance) (2022.6.15)\n",
            "Requirement already satisfied: charset-normalizer<3,>=2 in /usr/local/lib/python3.7/dist-packages (from requests>=2.26->yfinance) (2.1.1)\n"
          ]
        }
      ]
    },
    {
      "cell_type": "code",
      "source": [
        "#Falta modificarlo, pero es código base para el punto 1\n",
        "from matplotlib.patches import Polygon\n",
        "fig, ax = plt.subplots(figsize=(8, 6))\n",
        "ax.grid()\n",
        "ax.hlines(0, -1, 6)\n",
        "ax.vlines(0, -1, 7)\n",
        "ax.plot(np.linspace(0, 4, 100), 1*np.linspace(1, 5, 100), color=\"c\")\n",
        "ax.plot(np.linspace(1, 6, 100), 1*np.linspace(0, 5, 100), color=\"c\")\n",
        "ax.plot(np.linspace(0, 2, 100), -6*np.linspace(-1, 0, 100), color=\"c\")\n",
        "ax.text(4, 5, \"$x_1 + x_2 \\geq 1$\", size=12)\n",
        "ax.text(6, 5, \"$x_1 - x_2 \\leq 0$\", size=12)\n",
        "ax.text(-1.3, 6, \"$3x_1 + x_2 \\leq 6$\", size=12)\n",
        "ax.text(-1, 0.5, \"$x_2 \\geq 0$\", size=12)\n",
        "ax.text(-1, -1, \"$x_1 \\geq 0$\", size=12)\n",
        "\n",
        "\n",
        "# Draw the feasible region\n",
        "feasible_set = Polygon(np.array([[0,0],\n",
        "                                 [0,1],\n",
        "                                 [1.27, 2.22],\n",
        "                                 [1.75,0.79],[1,0]]), \n",
        "                       color=\"cyan\")\n",
        "ax.add_patch(feasible_set)"
      ],
      "metadata": {
        "id": "TWqoUJdyUjEq",
        "colab": {
          "base_uri": "https://localhost:8080/",
          "height": 391
        },
        "outputId": "938248a7-b671-4e5e-a9ba-8525a14a9555"
      },
      "execution_count": null,
      "outputs": [
        {
          "output_type": "execute_result",
          "data": {
            "text/plain": [
              "<matplotlib.patches.Polygon at 0x7fa1baf3f190>"
            ]
          },
          "metadata": {},
          "execution_count": 2
        },
        {
          "output_type": "display_data",
          "data": {
            "text/plain": [
              "<Figure size 576x432 with 1 Axes>"
            ],
            "image/png": "[encoded data removed]"
          },
          "metadata": {
            "needs_background": "light"
          }
        }
      ]
    },
    {
      "cell_type": "markdown",
      "source": [
        "**Punto 2**\n"
      ],
      "metadata": {
        "id": "Z7tYB9efT87T"
      }
    },
    {
      "cell_type": "code",
      "execution_count": null,
      "metadata": {
        "colab": {
          "base_uri": "https://localhost:8080/"
        },
        "id": "jnt_dGpCTxV9",
        "outputId": "8656a823-936a-40af-98cc-41d45f0a13c9"
      },
      "outputs": [
        {
          "output_type": "execute_result",
          "data": {
            "text/plain": [
              "     con: array([0.])\n",
              "     fun: -10.989473684210527\n",
              " message: 'Optimization terminated successfully.'\n",
              "     nit: 7\n",
              "   slack: array([-3.55271368e-15, -3.55271368e-15,  1.60000000e+01])\n",
              "  status: 0\n",
              " success: True\n",
              "       x: array([ 0.        , 12.63157895, 46.31578947, 21.05263158])"
            ]
          },
          "metadata": {},
          "execution_count": 3
        }
      ],
      "source": [
        "\n",
        "c = np.array([0.1,0.15,0.16,0.08])\n",
        "A = np.array([[1,1,1,1]])\n",
        "b = np.array([80])\n",
        "\n",
        "D = np.array([[0.5,0.3,0.25,0.6],\n",
        "              [0.3,0.1,0.4,0.2],\n",
        "              [0.2,0.6,0.35,0.2]])\n",
        "d = np.array([28,24,12])\n",
        "\n",
        "resultado = linprog(-c,A_ub=-D,b_ub=-d,A_eq=A,b_eq=b, method='simplex')\n",
        "resultado\n",
        "\n"
      ]
    },
    {
      "cell_type": "code",
      "source": [
        "T= [-resultado.fun,0,0]\n",
        "\n",
        "k= -resultado.slack\n",
        "Inversión = resultado.x\n",
        "df = pd.DataFrame(Inversión, index= ['Fondo 1','Fondo 2','Fondo 3','Fondo 4']).set_axis(['Miles USD'], axis=1)\n",
        "df"
      ],
      "metadata": {
        "colab": {
          "base_uri": "https://localhost:8080/",
          "height": 175
        },
        "id": "j2lCo4JaoN3N",
        "outputId": "02196c73-2257-4fdb-81b5-9680116a88dd"
      },
      "execution_count": null,
      "outputs": [
        {
          "output_type": "execute_result",
          "data": {
            "text/plain": [
              "         Miles USD\n",
              "Fondo 1   0.000000\n",
              "Fondo 2  12.631579\n",
              "Fondo 3  46.315789\n",
              "Fondo 4  21.052632"
            ],
            "text/html": [
              "\n",
              "  <div id=\"df-45d8edcb-0f53-41cb-96d3-51f8e05c28c4\">\n",
              "    <div class=\"colab-df-container\">\n",
              "      <div>\n",
              "<style scoped>\n",
              "    .dataframe tbody tr th:only-of-type {\n",
              "        vertical-align: middle;\n",
              "    }\n",
              "\n",
              "    .dataframe tbody tr th {\n",
              "        vertical-align: top;\n",
              "    }\n",
              "\n",
              "    .dataframe thead th {\n",
              "        text-align: right;\n",
              "    }\n",
              "</style>\n",
              "<table border=\"1\" class=\"dataframe\">\n",
              "  <thead>\n",
              "    <tr style=\"text-align: right;\">\n",
              "      <th></th>\n",
              "      <th>Miles USD</th>\n",
              "    </tr>\n",
              "  </thead>\n",
              "  <tbody>\n",
              "    <tr>\n",
              "      <th>Fondo 1</th>\n",
              "      <td>0.000000</td>\n",
              "    </tr>\n",
              "    <tr>\n",
              "      <th>Fondo 2</th>\n",
              "      <td>12.631579</td>\n",
              "    </tr>\n",
              "    <tr>\n",
              "      <th>Fondo 3</th>\n",
              "      <td>46.315789</td>\n",
              "    </tr>\n",
              "    <tr>\n",
              "      <th>Fondo 4</th>\n",
              "      <td>21.052632</td>\n",
              "    </tr>\n",
              "  </tbody>\n",
              "</table>\n",
              "</div>\n",
              "      <button class=\"colab-df-convert\" onclick=\"convertToInteractive('df-45d8edcb-0f53-41cb-96d3-51f8e05c28c4')\"\n",
              "              title=\"Convert this dataframe to an interactive table.\"\n",
              "              style=\"display:none;\">\n",
              "        \n",
              "  <svg xmlns=\"http://www.w3.org/2000/svg\" height=\"24px\"viewBox=\"0 0 24 24\"\n",
              "       width=\"24px\">\n",
              "    <path d=\"M0 0h24v24H0V0z\" fill=\"none\"/>\n",
              "    <path d=\"M18.56 5.44l.94 2.06.94-2.06 2.06-.94-2.06-.94-.94-2.06-.94 2.06-2.06.94zm-11 1L8.5 8.5l.94-2.06 2.06-.94-2.06-.94L8.5 2.5l-.94 2.06-2.06.94zm10 10l.94 2.06.94-2.06 2.06-.94-2.06-.94-.94-2.06-.94 2.06-2.06.94z\"/><path d=\"M17.41 7.96l-1.37-1.37c-.4-.4-.92-.59-1.43-.59-.52 0-1.04.2-1.43.59L10.3 9.45l-7.72 7.72c-.78.78-.78 2.05 0 2.83L4 21.41c.39.39.9.59 1.41.59.51 0 1.02-.2 1.41-.59l7.78-7.78 2.81-2.81c.8-.78.8-2.07 0-2.86zM5.41 20L4 18.59l7.72-7.72 1.47 1.35L5.41 20z\"/>\n",
              "  </svg>\n",
              "      </button>\n",
              "      \n",
              "  <style>\n",
              "    .colab-df-container {\n",
              "      display:flex;\n",
              "      flex-wrap:wrap;\n",
              "      gap: 12px;\n",
              "    }\n",
              "\n",
              "    .colab-df-convert {\n",
              "      background-color: #E8F0FE;\n",
              "      border: none;\n",
              "      border-radius: 50%;\n",
              "      cursor: pointer;\n",
              "      display: none;\n",
              "      fill: #1967D2;\n",
              "      height: 32px;\n",
              "      padding: 0 0 0 0;\n",
              "      width: 32px;\n",
              "    }\n",
              "\n",
              "    .colab-df-convert:hover {\n",
              "      background-color: #E2EBFA;\n",
              "      box-shadow: 0px 1px 2px rgba(60, 64, 67, 0.3), 0px 1px 3px 1px rgba(60, 64, 67, 0.15);\n",
              "      fill: #174EA6;\n",
              "    }\n",
              "\n",
              "    [theme=dark] .colab-df-convert {\n",
              "      background-color: #3B4455;\n",
              "      fill: #D2E3FC;\n",
              "    }\n",
              "\n",
              "    [theme=dark] .colab-df-convert:hover {\n",
              "      background-color: #434B5C;\n",
              "      box-shadow: 0px 1px 3px 1px rgba(0, 0, 0, 0.15);\n",
              "      filter: drop-shadow(0px 1px 2px rgba(0, 0, 0, 0.3));\n",
              "      fill: #FFFFFF;\n",
              "    }\n",
              "  </style>\n",
              "\n",
              "      <script>\n",
              "        const buttonEl =\n",
              "          document.querySelector('#df-45d8edcb-0f53-41cb-96d3-51f8e05c28c4 button.colab-df-convert');\n",
              "        buttonEl.style.display =\n",
              "          google.colab.kernel.accessAllowed ? 'block' : 'none';\n",
              "\n",
              "        async function convertToInteractive(key) {\n",
              "          const element = document.querySelector('#df-45d8edcb-0f53-41cb-96d3-51f8e05c28c4');\n",
              "          const dataTable =\n",
              "            await google.colab.kernel.invokeFunction('convertToInteractive',\n",
              "                                                     [key], {});\n",
              "          if (!dataTable) return;\n",
              "\n",
              "          const docLinkHtml = 'Like what you see? Visit the ' +\n",
              "            '<a target=\"_blank\" href=https://colab.research.google.com/notebooks/data_table.ipynb>data table notebook</a>'\n",
              "            + ' to learn more about interactive tables.';\n",
              "          element.innerHTML = '';\n",
              "          dataTable['output_type'] = 'display_data';\n",
              "          await google.colab.output.renderOutput(dataTable, element);\n",
              "          const docLink = document.createElement('div');\n",
              "          docLink.innerHTML = docLinkHtml;\n",
              "          element.appendChild(docLink);\n",
              "        }\n",
              "      </script>\n",
              "    </div>\n",
              "  </div>\n",
              "  "
            ]
          },
          "metadata": {},
          "execution_count": 4
        }
      ]
    },
    {
      "cell_type": "markdown",
      "source": [
        "**Analisis:**\n",
        "segun los resultados del escenario de inversion de 80 millones entre los 4 fondos estudiados, el numero 3 es aquel que tiene el mayor retorno con 46.31 miles de dolares, seguido del fondo 4 con 21.05 miles de dolares, el fondo 2 con 12.63 miles de dolares y finalmente el fondo 1 sin retorno.\n",
        "Con esto dicho es evidente hacia que fondo invertir a tener una posicion larga, por lo tanto el fondo 3 sera aquel que decidamos escoger.      "
      ],
      "metadata": {
        "id": "SsIjThF-z5Rp"
      }
    },
    {
      "cell_type": "markdown",
      "source": [
        "**Punto 3**"
      ],
      "metadata": {
        "id": "Wl_x12FwXHBy"
      }
    },
    {
      "cell_type": "code",
      "source": [
        "#Construcción de vectores\n",
        "b = np.array([150, 100, -200, 200, -50, -300])\n",
        "c = np.array([0,0,0,0,0,0,0,0,0,0,0,0,0,1]) #Función objetivo\n",
        "rx = np.array([1.01])  #tasa del crédito\n",
        "ry = np.array([1.02]) #Tasa del bono\n",
        "rz = np.array([1.003]) #Tasa excedente\n",
        "A = np.array([[1,0,0,0,0, 1,0,0, -1,0,0,0,0,0],\n",
        "              [-rx,1,0,0,0, 0,1,0, rz,-1,0,0,0,0],\n",
        "              [0,-rx,1,0,0, 0,0,1, 0,rz,-1,0,0,0],\n",
        "              [0,0,-rx,1,0, -ry,0,0, 0,0,rz,-1,0,0],\n",
        "              [0,0,0,-rx,1, 0,-ry,0, 0,0,0,rz,-1,0],\n",
        "              [0,0,0,0,-rx, 0,0,-ry, 0,0,0,0,rz,-1]])\n",
        "\n",
        "#Solución con cvxpy\n",
        "n = len(c) # # de elementos que requiere el vector c\n",
        "x = cp.Variable(n) #Mismo tamaño de c porque se debe operar x con c\n",
        "\n",
        "objective = cp.Maximize(c.T @ x )\n",
        "constraints = [A @ x == b, x>=0]\n",
        "prob = cp.Problem(objective, constraints)\n",
        "\n",
        "# The optimal objective value is returned by `prob.solve()`.\n",
        "result = prob.solve()\n",
        "# The optimal value for x is stored in `x.value`.\n",
        "sol = round(pd.DataFrame(x.value),4)\n",
        "sol\n"
      ],
      "metadata": {
        "colab": {
          "base_uri": "https://localhost:8080/",
          "height": 488
        },
        "id": "-50daWV2XJgZ",
        "outputId": "696f3f25-3b05-43a9-be46-22fcdd28c2d0"
      },
      "execution_count": null,
      "outputs": [
        {
          "output_type": "execute_result",
          "data": {
            "text/plain": [
              "           0\n",
              "0     0.0000\n",
              "1    42.6867\n",
              "2     0.0000\n",
              "3     0.0000\n",
              "4     8.4595\n",
              "5   150.0000\n",
              "6    57.3133\n",
              "7   195.0578\n",
              "8     0.0000\n",
              "9     0.0000\n",
              "10  351.9442\n",
              "11    0.0000\n",
              "12    0.0000\n",
              "13   92.4969"
            ],
            "text/html": [
              "\n",
              "  <div id=\"df-a2524d3e-270b-43b7-9970-f84196216dfd\">\n",
              "    <div class=\"colab-df-container\">\n",
              "      <div>\n",
              "<style scoped>\n",
              "    .dataframe tbody tr th:only-of-type {\n",
              "        vertical-align: middle;\n",
              "    }\n",
              "\n",
              "    .dataframe tbody tr th {\n",
              "        vertical-align: top;\n",
              "    }\n",
              "\n",
              "    .dataframe thead th {\n",
              "        text-align: right;\n",
              "    }\n",
              "</style>\n",
              "<table border=\"1\" class=\"dataframe\">\n",
              "  <thead>\n",
              "    <tr style=\"text-align: right;\">\n",
              "      <th></th>\n",
              "      <th>0</th>\n",
              "    </tr>\n",
              "  </thead>\n",
              "  <tbody>\n",
              "    <tr>\n",
              "      <th>0</th>\n",
              "      <td>0.0000</td>\n",
              "    </tr>\n",
              "    <tr>\n",
              "      <th>1</th>\n",
              "      <td>42.6867</td>\n",
              "    </tr>\n",
              "    <tr>\n",
              "      <th>2</th>\n",
              "      <td>0.0000</td>\n",
              "    </tr>\n",
              "    <tr>\n",
              "      <th>3</th>\n",
              "      <td>0.0000</td>\n",
              "    </tr>\n",
              "    <tr>\n",
              "      <th>4</th>\n",
              "      <td>8.4595</td>\n",
              "    </tr>\n",
              "    <tr>\n",
              "      <th>5</th>\n",
              "      <td>150.0000</td>\n",
              "    </tr>\n",
              "    <tr>\n",
              "      <th>6</th>\n",
              "      <td>57.3133</td>\n",
              "    </tr>\n",
              "    <tr>\n",
              "      <th>7</th>\n",
              "      <td>195.0578</td>\n",
              "    </tr>\n",
              "    <tr>\n",
              "      <th>8</th>\n",
              "      <td>0.0000</td>\n",
              "    </tr>\n",
              "    <tr>\n",
              "      <th>9</th>\n",
              "      <td>0.0000</td>\n",
              "    </tr>\n",
              "    <tr>\n",
              "      <th>10</th>\n",
              "      <td>351.9442</td>\n",
              "    </tr>\n",
              "    <tr>\n",
              "      <th>11</th>\n",
              "      <td>0.0000</td>\n",
              "    </tr>\n",
              "    <tr>\n",
              "      <th>12</th>\n",
              "      <td>0.0000</td>\n",
              "    </tr>\n",
              "    <tr>\n",
              "      <th>13</th>\n",
              "      <td>92.4969</td>\n",
              "    </tr>\n",
              "  </tbody>\n",
              "</table>\n",
              "</div>\n",
              "      <button class=\"colab-df-convert\" onclick=\"convertToInteractive('df-a2524d3e-270b-43b7-9970-f84196216dfd')\"\n",
              "              title=\"Convert this dataframe to an interactive table.\"\n",
              "              style=\"display:none;\">\n",
              "        \n",
              "  <svg xmlns=\"http://www.w3.org/2000/svg\" height=\"24px\"viewBox=\"0 0 24 24\"\n",
              "       width=\"24px\">\n",
              "    <path d=\"M0 0h24v24H0V0z\" fill=\"none\"/>\n",
              "    <path d=\"M18.56 5.44l.94 2.06.94-2.06 2.06-.94-2.06-.94-.94-2.06-.94 2.06-2.06.94zm-11 1L8.5 8.5l.94-2.06 2.06-.94-2.06-.94L8.5 2.5l-.94 2.06-2.06.94zm10 10l.94 2.06.94-2.06 2.06-.94-2.06-.94-.94-2.06-.94 2.06-2.06.94z\"/><path d=\"M17.41 7.96l-1.37-1.37c-.4-.4-.92-.59-1.43-.59-.52 0-1.04.2-1.43.59L10.3 9.45l-7.72 7.72c-.78.78-.78 2.05 0 2.83L4 21.41c.39.39.9.59 1.41.59.51 0 1.02-.2 1.41-.59l7.78-7.78 2.81-2.81c.8-.78.8-2.07 0-2.86zM5.41 20L4 18.59l7.72-7.72 1.47 1.35L5.41 20z\"/>\n",
              "  </svg>\n",
              "      </button>\n",
              "      \n",
              "  <style>\n",
              "    .colab-df-container {\n",
              "      display:flex;\n",
              "      flex-wrap:wrap;\n",
              "      gap: 12px;\n",
              "    }\n",
              "\n",
              "    .colab-df-convert {\n",
              "      background-color: #E8F0FE;\n",
              "      border: none;\n",
              "      border-radius: 50%;\n",
              "      cursor: pointer;\n",
              "      display: none;\n",
              "      fill: #1967D2;\n",
              "      height: 32px;\n",
              "      padding: 0 0 0 0;\n",
              "      width: 32px;\n",
              "    }\n",
              "\n",
              "    .colab-df-convert:hover {\n",
              "      background-color: #E2EBFA;\n",
              "      box-shadow: 0px 1px 2px rgba(60, 64, 67, 0.3), 0px 1px 3px 1px rgba(60, 64, 67, 0.15);\n",
              "      fill: #174EA6;\n",
              "    }\n",
              "\n",
              "    [theme=dark] .colab-df-convert {\n",
              "      background-color: #3B4455;\n",
              "      fill: #D2E3FC;\n",
              "    }\n",
              "\n",
              "    [theme=dark] .colab-df-convert:hover {\n",
              "      background-color: #434B5C;\n",
              "      box-shadow: 0px 1px 3px 1px rgba(0, 0, 0, 0.15);\n",
              "      filter: drop-shadow(0px 1px 2px rgba(0, 0, 0, 0.3));\n",
              "      fill: #FFFFFF;\n",
              "    }\n",
              "  </style>\n",
              "\n",
              "      <script>\n",
              "        const buttonEl =\n",
              "          document.querySelector('#df-a2524d3e-270b-43b7-9970-f84196216dfd button.colab-df-convert');\n",
              "        buttonEl.style.display =\n",
              "          google.colab.kernel.accessAllowed ? 'block' : 'none';\n",
              "\n",
              "        async function convertToInteractive(key) {\n",
              "          const element = document.querySelector('#df-a2524d3e-270b-43b7-9970-f84196216dfd');\n",
              "          const dataTable =\n",
              "            await google.colab.kernel.invokeFunction('convertToInteractive',\n",
              "                                                     [key], {});\n",
              "          if (!dataTable) return;\n",
              "\n",
              "          const docLinkHtml = 'Like what you see? Visit the ' +\n",
              "            '<a target=\"_blank\" href=https://colab.research.google.com/notebooks/data_table.ipynb>data table notebook</a>'\n",
              "            + ' to learn more about interactive tables.';\n",
              "          element.innerHTML = '';\n",
              "          dataTable['output_type'] = 'display_data';\n",
              "          await google.colab.output.renderOutput(dataTable, element);\n",
              "          const docLink = document.createElement('div');\n",
              "          docLink.innerHTML = docLinkHtml;\n",
              "          element.appendChild(docLink);\n",
              "        }\n",
              "      </script>\n",
              "    </div>\n",
              "  </div>\n",
              "  "
            ]
          },
          "metadata": {},
          "execution_count": 5
        }
      ]
    },
    {
      "cell_type": "markdown",
      "source": [
        "**Punto 4**"
      ],
      "metadata": {
        "id": "Lq_u0Xp9YqIy"
      }
    },
    {
      "cell_type": "code",
      "source": [
        "## Estimaciones para MCO\n",
        "# Información histórica para MCO\n",
        "fechai = \"2015-12-01\"\n",
        "fechaf = \"2020-12-31\"\n",
        "periodicidad = \"1Mo\"\n",
        "MCO = [\"MCO\"]\n",
        "p_mco = yf.download(MCO,start=fechai,end=fechaf,interval=periodicidad)['Adj Close'].dropna()\n",
        "r_mco = np.log(p_mco/p_mco.shift(1)).dropna()\n",
        "\n",
        "indice = yf.download(\"^GSPC\",start=fechai,end=fechaf,interval=periodicidad)['Adj Close'].dropna()\n",
        "r_indice = np.log(indice/indice.shift(1)).dropna()"
      ],
      "metadata": {
        "colab": {
          "base_uri": "https://localhost:8080/"
        },
        "id": "oqz1rCYhY9Z5",
        "outputId": "c5bbbeef-a052-4d15-83c7-1d00b9a1dc27"
      },
      "execution_count": null,
      "outputs": [
        {
          "output_type": "stream",
          "name": "stdout",
          "text": [
            "[*********************100%***********************]  1 of 1 completed\n",
            "[*********************100%***********************]  1 of 1 completed\n"
          ]
        }
      ]
    },
    {
      "cell_type": "code",
      "source": [
        "# Estimación lineal\n",
        "slope, intercept, r, p, std_err = stats.linregress(r_indice, r_mco)\n",
        "def linestim(x):\n",
        "  return intercept + slope * x\n",
        "\n",
        "model = list(map(linestim, r_indice))"
      ],
      "metadata": {
        "id": "ZyxLafE-ZhwZ"
      },
      "execution_count": null,
      "outputs": []
    },
    {
      "cell_type": "code",
      "source": [
        "# Estimacion parámetros\n",
        "beta = round(slope,4)\n",
        "alpha = round(intercept,4)\n",
        "print('Beta MCO: ', beta )\n",
        "print('Alpha MCO: ', alpha)"
      ],
      "metadata": {
        "colab": {
          "base_uri": "https://localhost:8080/"
        },
        "id": "6PI5BD69ZkIJ",
        "outputId": "40babd36-8447-44af-f17e-58a9493e62dc"
      },
      "execution_count": null,
      "outputs": [
        {
          "output_type": "stream",
          "name": "stdout",
          "text": [
            "Beta MCO:  1.1725\n",
            "Alpha MCO:  0.0068\n"
          ]
        }
      ]
    },
    {
      "cell_type": "code",
      "source": [
        "# Variables\n",
        "t = len(r_indice)\n",
        "unos2 = pd.DataFrame(np.repeat(1,t))\n",
        "r_indice2 = pd.DataFrame(r_indice)\n",
        "r_mco2 = pd.DataFrame(r_mco)\n",
        "var = np.concatenate((unos2,r_indice2),1)\n",
        "X = var.T @ var\n",
        "Xy = var.T @ r_mco\n",
        "Sol= np.linalg.solve(X,Xy)\n",
        "Sol"
      ],
      "metadata": {
        "colab": {
          "base_uri": "https://localhost:8080/"
        },
        "id": "TypLsqtCZmgp",
        "outputId": "950ac22d-9eb5-4f2f-c02f-142b5443df94"
      },
      "execution_count": null,
      "outputs": [
        {
          "output_type": "execute_result",
          "data": {
            "text/plain": [
              "array([0.00676426, 1.17254546])"
            ]
          },
          "metadata": {},
          "execution_count": 9
        }
      ]
    },
    {
      "cell_type": "markdown",
      "source": [
        "Punto 5"
      ],
      "metadata": {
        "id": "iLNikClydNaw"
      }
    },
    {
      "cell_type": "code",
      "source": [
        "obj = np.array([109,94.8,99.5,93.1,97.2,92.9,110,104,102,95.2,0,0,0,0,0,0])\n",
        "restr = np.array([[10,7,8,6,7,5,10,8,7,100,-1,0,0,0,0,0],\n",
        "                  [10,7,8,6,7,5,10,8,107,0,-0,-1,0,0,0,0],\n",
        "                  [10,7,8,6,7,5,110,108,0,0,0,0,-1,0,0,0],\n",
        "                  [10,7,8,6,7,105,0,0,0,0,0,0,0,-1,0,0],\n",
        "                  [10,7,8,106,107,0,0,0,0,0,0,0,0,0,-1,0],\n",
        "                  [110,107,108,0,0,0,0,0,0,0,0,0,0,0,0,-1]])\n",
        "rhseq = np.array([100,200,800,100,800,1200])\n",
        "lim = [(0,float('inf')) for x in range(len(obj))]\n",
        "opti = linprog(obj,A_eq=restr,b_eq=rhseq,bounds=lim,method='simplex')\n",
        "opti"
      ],
      "metadata": {
        "id": "MCHSET0Kp56F",
        "colab": {
          "base_uri": "https://localhost:8080/"
        },
        "outputId": "6a0ea295-f5a8-458e-aea2-913e2675f314"
      },
      "execution_count": null,
      "outputs": [
        {
          "output_type": "execute_result",
          "data": {
            "text/plain": [
              "     con: array([-1.42108547e-14,  0.00000000e+00,  0.00000000e+00, -1.42108547e-14,\n",
              "        0.00000000e+00, -2.27373675e-13])\n",
              "     fun: 2381.1388298203824\n",
              " message: 'Optimization terminated successfully.'\n",
              "     nit: 9\n",
              "   slack: array([], dtype=float64)\n",
              "  status: 0\n",
              " success: True\n",
              "       x: array([ 0.        , 11.21495327,  0.        ,  6.80655969,  0.        ,\n",
              "        0.        ,  0.        ,  6.30237008,  0.28258886,  0.        ,\n",
              "       71.74111374,  0.        ,  0.        , 19.34403104,  0.        ,\n",
              "        0.        ])"
            ]
          },
          "metadata": {},
          "execution_count": 2
        }
      ]
    }
  ]
}