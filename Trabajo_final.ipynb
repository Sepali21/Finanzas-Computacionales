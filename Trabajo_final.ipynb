{
  "nbformat": 4,
  "nbformat_minor": 0,
  "metadata": {
    "colab": {
      "provenance": [],
      "include_colab_link": true
    },
    "kernelspec": {
      "name": "python3",
      "display_name": "Python 3"
    },
    "language_info": {
      "name": "python"
    }
  },
  "cells": [
    {
      "cell_type": "markdown",
      "metadata": {
        "id": "view-in-github",
        "colab_type": "text"
      },
      "source": [
        "<a href=\"https://colab.research.google.com/github/Sepali21/Finanzas-Computacionales/blob/main/Trabajo_final.ipynb\" target=\"_parent\"><img src=\"https://colab.research.google.com/assets/colab-badge.svg\" alt=\"Open In Colab\"/></a>"
      ]
    },
    {
      "cell_type": "markdown",
      "source": [
        "# Optimización de portafolio cripto y simulación\n",
        "Sebastian Parraga - Maria Fernanda Gutierrez - Cristián Vega"
      ],
      "metadata": {
        "id": "Mij-sW9c_FjS"
      }
    },
    {
      "cell_type": "code",
      "execution_count": 3,
      "metadata": {
        "colab": {
          "base_uri": "https://localhost:8080/"
        },
        "id": "CmJE-eMPrEMn",
        "outputId": "bc8f0b52-49d8-4be3-9dbc-e9765603b476"
      },
      "outputs": [
        {
          "output_type": "stream",
          "name": "stdout",
          "text": [
            "\u001b[?25l\r\u001b[K     |█████▏                          | 10 kB 29.6 MB/s eta 0:00:01\r\u001b[K     |██████████▍                     | 20 kB 37.4 MB/s eta 0:00:01\r\u001b[K     |███████████████▋                | 30 kB 47.6 MB/s eta 0:00:01\r\u001b[K     |████████████████████▉           | 40 kB 54.9 MB/s eta 0:00:01\r\u001b[K     |██████████████████████████      | 51 kB 60.4 MB/s eta 0:00:01\r\u001b[K     |███████████████████████████████▎| 61 kB 67.0 MB/s eta 0:00:01\r\u001b[K     |████████████████████████████████| 62 kB 1.6 MB/s \n",
            "\u001b[?25hLooking in indexes: https://pypi.org/simple, https://us-python.pkg.dev/colab-wheels/public/simple/\n",
            "Collecting fitter\n",
            "  Downloading fitter-1.5.1.tar.gz (27 kB)\n",
            "Requirement already satisfied: click in /usr/local/lib/python3.7/dist-packages (from fitter) (7.1.2)\n",
            "Requirement already satisfied: joblib in /usr/local/lib/python3.7/dist-packages (from fitter) (1.2.0)\n",
            "Requirement already satisfied: matplotlib in /usr/local/lib/python3.7/dist-packages (from fitter) (3.2.2)\n",
            "Requirement already satisfied: numpy in /usr/local/lib/python3.7/dist-packages (from fitter) (1.21.6)\n",
            "Requirement already satisfied: pandas in /usr/local/lib/python3.7/dist-packages (from fitter) (1.3.5)\n",
            "Requirement already satisfied: scipy>=0.18 in /usr/local/lib/python3.7/dist-packages (from fitter) (1.7.3)\n",
            "Requirement already satisfied: tqdm in /usr/local/lib/python3.7/dist-packages (from fitter) (4.64.1)\n",
            "Requirement already satisfied: cycler>=0.10 in /usr/local/lib/python3.7/dist-packages (from matplotlib->fitter) (0.11.0)\n",
            "Requirement already satisfied: pyparsing!=2.0.4,!=2.1.2,!=2.1.6,>=2.0.1 in /usr/local/lib/python3.7/dist-packages (from matplotlib->fitter) (3.0.9)\n",
            "Requirement already satisfied: kiwisolver>=1.0.1 in /usr/local/lib/python3.7/dist-packages (from matplotlib->fitter) (1.4.4)\n",
            "Requirement already satisfied: python-dateutil>=2.1 in /usr/local/lib/python3.7/dist-packages (from matplotlib->fitter) (2.8.2)\n",
            "Requirement already satisfied: typing-extensions in /usr/local/lib/python3.7/dist-packages (from kiwisolver>=1.0.1->matplotlib->fitter) (4.1.1)\n",
            "Requirement already satisfied: six>=1.5 in /usr/local/lib/python3.7/dist-packages (from python-dateutil>=2.1->matplotlib->fitter) (1.15.0)\n",
            "Requirement already satisfied: pytz>=2017.3 in /usr/local/lib/python3.7/dist-packages (from pandas->fitter) (2022.6)\n",
            "Building wheels for collected packages: fitter\n",
            "  Building wheel for fitter (setup.py) ... \u001b[?25l\u001b[?25hdone\n",
            "  Created wheel for fitter: filename=fitter-1.5.1-py3-none-any.whl size=25595 sha256=f9cf134b3bd0fe756f3664c3de9e02d69ca62be4a72df49dd1d710f540602b20\n",
            "  Stored in directory: /root/.cache/pip/wheels/40/65/62/57b872ba7af36e70111b1f67cffe76f97c747804aff7665ccb\n",
            "Successfully built fitter\n",
            "Installing collected packages: fitter\n",
            "Successfully installed fitter-1.5.1\n"
          ]
        }
      ],
      "source": [
        "!pip install --quiet yfinance\n",
        "import numpy as np\n",
        "import pandas as pd\n",
        "import matplotlib.pyplot as plt\n",
        "import yfinance as yf\n",
        "import warnings\n",
        "warnings.filterwarnings(\"ignore\")\n",
        "import seaborn as sns\n",
        "import scipy.stats\n",
        "from scipy.stats import norm\n",
        "import cvxpy as cp\n",
        "import statsmodels.api as sm\n",
        "from statsmodels.tsa.api import acf, pacf, graphics\n",
        "from statsmodels.graphics.tsaplots import plot_acf\n",
        "from statsmodels.tsa.stattools import adfuller\n",
        "!pip install fitter\n",
        "from fitter import Fitter, get_common_distributions, get_distributions"
      ]
    },
    {
      "cell_type": "code",
      "source": [
        "#Eleccion de datos para crear el portafolio cripto: Bitcoin, Etherium, Litecoin y Tether\n",
        "start = '2010-12-31'\n",
        "end = '2021-12-31'\n",
        "assets = ['BTC-USD','ETH-USD','LTC-USD','USDT-USD']\n",
        "precios = yf.download(assets, start = start, end = end,interval='1Mo')['Adj Close'].dropna()\n",
        "retornos = np.log(precios/precios.shift(1)).dropna()\n",
        "mu = retornos.mean()\n",
        "cov = retornos.cov()\n",
        "var = np.diag(cov)\n",
        "sigma = np.sqrt(var)\n",
        "n = len(mu)"
      ],
      "metadata": {
        "colab": {
          "base_uri": "https://localhost:8080/"
        },
        "id": "FQIhYAaErGAU",
        "outputId": "ae84a40c-fea7-430e-9f27-3b812d66a61a"
      },
      "execution_count": 47,
      "outputs": [
        {
          "output_type": "stream",
          "name": "stdout",
          "text": [
            "[*********************100%***********************]  4 of 4 completed\n"
          ]
        }
      ]
    },
    {
      "cell_type": "code",
      "source": [
        "warnings.filterwarnings(\"ignore\")\n",
        "!pip install riskfolio-lib\n",
        "import riskfolio.RiskFunctions as rk\n"
      ],
      "metadata": {
        "id": "tRUqWtEJWtxa"
      },
      "execution_count": null,
      "outputs": []
    },
    {
      "cell_type": "markdown",
      "source": [
        "#Optimización Omega"
      ],
      "metadata": {
        "id": "LRHbBO9oeUkJ"
      }
    },
    {
      "cell_type": "code",
      "source": [
        "\n",
        "threshold = retornos.loc[retornos.index[-1]]\n",
        "def omega(df,threshold):\n",
        "  dailythreshold = (threshold + 1)**np.sqrt(1/252)-1\n",
        "  df['return']= retornos\n",
        "  df['excess'] = df['return'] - dailythreshold\n",
        "  dfpositivesum = (df[df['excess']>0].sum())['excess']\n",
        "  dfnegativesum = (df[df['excess']<0].sum())['excess']\n",
        "  omega = dfpositivesum/(-dfnegativesum)\n",
        "  return omega"
      ],
      "metadata": {
        "id": "ZYYT6lwVBplf"
      },
      "execution_count": 59,
      "outputs": []
    },
    {
      "cell_type": "code",
      "source": [
        "omega(retornos, threshold)"
      ],
      "metadata": {
        "colab": {
          "base_uri": "https://localhost:8080/",
          "height": 588
        },
        "id": "h3duZnODJ4lr",
        "outputId": "c5bd09d3-37cf-430d-b83a-41f8bbd518af"
      },
      "execution_count": 60,
      "outputs": [
        {
          "output_type": "error",
          "ename": "ValueError",
          "evalue": "ignored",
          "traceback": [
            "\u001b[0;31m---------------------------------------------------------------------------\u001b[0m",
            "\u001b[0;31mKeyError\u001b[0m                                  Traceback (most recent call last)",
            "\u001b[0;32m/usr/local/lib/python3.7/dist-packages/pandas/core/indexes/base.py\u001b[0m in \u001b[0;36mget_loc\u001b[0;34m(self, key, method, tolerance)\u001b[0m\n\u001b[1;32m   3360\u001b[0m             \u001b[0;32mtry\u001b[0m\u001b[0;34m:\u001b[0m\u001b[0;34m\u001b[0m\u001b[0;34m\u001b[0m\u001b[0m\n\u001b[0;32m-> 3361\u001b[0;31m                 \u001b[0;32mreturn\u001b[0m \u001b[0mself\u001b[0m\u001b[0;34m.\u001b[0m\u001b[0m_engine\u001b[0m\u001b[0;34m.\u001b[0m\u001b[0mget_loc\u001b[0m\u001b[0;34m(\u001b[0m\u001b[0mcasted_key\u001b[0m\u001b[0;34m)\u001b[0m\u001b[0;34m\u001b[0m\u001b[0;34m\u001b[0m\u001b[0m\n\u001b[0m\u001b[1;32m   3362\u001b[0m             \u001b[0;32mexcept\u001b[0m \u001b[0mKeyError\u001b[0m \u001b[0;32mas\u001b[0m \u001b[0merr\u001b[0m\u001b[0;34m:\u001b[0m\u001b[0;34m\u001b[0m\u001b[0;34m\u001b[0m\u001b[0m\n",
            "\u001b[0;32m/usr/local/lib/python3.7/dist-packages/pandas/_libs/index.pyx\u001b[0m in \u001b[0;36mpandas._libs.index.IndexEngine.get_loc\u001b[0;34m()\u001b[0m\n",
            "\u001b[0;32m/usr/local/lib/python3.7/dist-packages/pandas/_libs/index.pyx\u001b[0m in \u001b[0;36mpandas._libs.index.IndexEngine.get_loc\u001b[0;34m()\u001b[0m\n",
            "\u001b[0;32mpandas/_libs/hashtable_class_helper.pxi\u001b[0m in \u001b[0;36mpandas._libs.hashtable.PyObjectHashTable.get_item\u001b[0;34m()\u001b[0m\n",
            "\u001b[0;32mpandas/_libs/hashtable_class_helper.pxi\u001b[0m in \u001b[0;36mpandas._libs.hashtable.PyObjectHashTable.get_item\u001b[0;34m()\u001b[0m\n",
            "\u001b[0;31mKeyError\u001b[0m: 'return'",
            "\nThe above exception was the direct cause of the following exception:\n",
            "\u001b[0;31mKeyError\u001b[0m                                  Traceback (most recent call last)",
            "\u001b[0;32m/usr/local/lib/python3.7/dist-packages/pandas/core/frame.py\u001b[0m in \u001b[0;36m_set_item_mgr\u001b[0;34m(self, key, value)\u001b[0m\n\u001b[1;32m   3750\u001b[0m         \u001b[0;32mtry\u001b[0m\u001b[0;34m:\u001b[0m\u001b[0;34m\u001b[0m\u001b[0;34m\u001b[0m\u001b[0m\n\u001b[0;32m-> 3751\u001b[0;31m             \u001b[0mloc\u001b[0m \u001b[0;34m=\u001b[0m \u001b[0mself\u001b[0m\u001b[0;34m.\u001b[0m\u001b[0m_info_axis\u001b[0m\u001b[0;34m.\u001b[0m\u001b[0mget_loc\u001b[0m\u001b[0;34m(\u001b[0m\u001b[0mkey\u001b[0m\u001b[0;34m)\u001b[0m\u001b[0;34m\u001b[0m\u001b[0;34m\u001b[0m\u001b[0m\n\u001b[0m\u001b[1;32m   3752\u001b[0m         \u001b[0;32mexcept\u001b[0m \u001b[0mKeyError\u001b[0m\u001b[0;34m:\u001b[0m\u001b[0;34m\u001b[0m\u001b[0;34m\u001b[0m\u001b[0m\n",
            "\u001b[0;32m/usr/local/lib/python3.7/dist-packages/pandas/core/indexes/base.py\u001b[0m in \u001b[0;36mget_loc\u001b[0;34m(self, key, method, tolerance)\u001b[0m\n\u001b[1;32m   3362\u001b[0m             \u001b[0;32mexcept\u001b[0m \u001b[0mKeyError\u001b[0m \u001b[0;32mas\u001b[0m \u001b[0merr\u001b[0m\u001b[0;34m:\u001b[0m\u001b[0;34m\u001b[0m\u001b[0;34m\u001b[0m\u001b[0m\n\u001b[0;32m-> 3363\u001b[0;31m                 \u001b[0;32mraise\u001b[0m \u001b[0mKeyError\u001b[0m\u001b[0;34m(\u001b[0m\u001b[0mkey\u001b[0m\u001b[0;34m)\u001b[0m \u001b[0;32mfrom\u001b[0m \u001b[0merr\u001b[0m\u001b[0;34m\u001b[0m\u001b[0;34m\u001b[0m\u001b[0m\n\u001b[0m\u001b[1;32m   3364\u001b[0m \u001b[0;34m\u001b[0m\u001b[0m\n",
            "\u001b[0;31mKeyError\u001b[0m: 'return'",
            "\nDuring handling of the above exception, another exception occurred:\n",
            "\u001b[0;31mValueError\u001b[0m                                Traceback (most recent call last)",
            "\u001b[0;32m<ipython-input-60-9696e9f75b46>\u001b[0m in \u001b[0;36m<module>\u001b[0;34m\u001b[0m\n\u001b[0;32m----> 1\u001b[0;31m \u001b[0momega\u001b[0m\u001b[0;34m(\u001b[0m\u001b[0mretornos\u001b[0m\u001b[0;34m,\u001b[0m \u001b[0mthreshold\u001b[0m\u001b[0;34m)\u001b[0m\u001b[0;34m\u001b[0m\u001b[0;34m\u001b[0m\u001b[0m\n\u001b[0m",
            "\u001b[0;32m<ipython-input-59-1c97ff7cc867>\u001b[0m in \u001b[0;36momega\u001b[0;34m(df, threshold)\u001b[0m\n\u001b[1;32m      2\u001b[0m \u001b[0;32mdef\u001b[0m \u001b[0momega\u001b[0m\u001b[0;34m(\u001b[0m\u001b[0mdf\u001b[0m\u001b[0;34m,\u001b[0m\u001b[0mthreshold\u001b[0m\u001b[0;34m)\u001b[0m\u001b[0;34m:\u001b[0m\u001b[0;34m\u001b[0m\u001b[0;34m\u001b[0m\u001b[0m\n\u001b[1;32m      3\u001b[0m   \u001b[0mdailythreshold\u001b[0m \u001b[0;34m=\u001b[0m \u001b[0;34m(\u001b[0m\u001b[0mthreshold\u001b[0m \u001b[0;34m+\u001b[0m \u001b[0;36m1\u001b[0m\u001b[0;34m)\u001b[0m\u001b[0;34m**\u001b[0m\u001b[0mnp\u001b[0m\u001b[0;34m.\u001b[0m\u001b[0msqrt\u001b[0m\u001b[0;34m(\u001b[0m\u001b[0;36m1\u001b[0m\u001b[0;34m/\u001b[0m\u001b[0;36m252\u001b[0m\u001b[0;34m)\u001b[0m\u001b[0;34m-\u001b[0m\u001b[0;36m1\u001b[0m\u001b[0;34m\u001b[0m\u001b[0;34m\u001b[0m\u001b[0m\n\u001b[0;32m----> 4\u001b[0;31m   \u001b[0mdf\u001b[0m\u001b[0;34m[\u001b[0m\u001b[0;34m'return'\u001b[0m\u001b[0;34m]\u001b[0m\u001b[0;34m=\u001b[0m \u001b[0mretornos\u001b[0m\u001b[0;34m\u001b[0m\u001b[0;34m\u001b[0m\u001b[0m\n\u001b[0m\u001b[1;32m      5\u001b[0m   \u001b[0mdf\u001b[0m\u001b[0;34m[\u001b[0m\u001b[0;34m'excess'\u001b[0m\u001b[0;34m]\u001b[0m \u001b[0;34m=\u001b[0m \u001b[0mdf\u001b[0m\u001b[0;34m[\u001b[0m\u001b[0;34m'return'\u001b[0m\u001b[0;34m]\u001b[0m \u001b[0;34m-\u001b[0m \u001b[0mdailythreshold\u001b[0m\u001b[0;34m\u001b[0m\u001b[0;34m\u001b[0m\u001b[0m\n\u001b[1;32m      6\u001b[0m   \u001b[0mdfpositivesum\u001b[0m \u001b[0;34m=\u001b[0m \u001b[0;34m(\u001b[0m\u001b[0mdf\u001b[0m\u001b[0;34m[\u001b[0m\u001b[0mdf\u001b[0m\u001b[0;34m[\u001b[0m\u001b[0;34m'excess'\u001b[0m\u001b[0;34m]\u001b[0m\u001b[0;34m>\u001b[0m\u001b[0;36m0\u001b[0m\u001b[0;34m]\u001b[0m\u001b[0;34m.\u001b[0m\u001b[0msum\u001b[0m\u001b[0;34m(\u001b[0m\u001b[0;34m)\u001b[0m\u001b[0;34m)\u001b[0m\u001b[0;34m[\u001b[0m\u001b[0;34m'excess'\u001b[0m\u001b[0;34m]\u001b[0m\u001b[0;34m\u001b[0m\u001b[0;34m\u001b[0m\u001b[0m\n",
            "\u001b[0;32m/usr/local/lib/python3.7/dist-packages/pandas/core/frame.py\u001b[0m in \u001b[0;36m__setitem__\u001b[0;34m(self, key, value)\u001b[0m\n\u001b[1;32m   3600\u001b[0m             \u001b[0mself\u001b[0m\u001b[0;34m.\u001b[0m\u001b[0m_setitem_array\u001b[0m\u001b[0;34m(\u001b[0m\u001b[0mkey\u001b[0m\u001b[0;34m,\u001b[0m \u001b[0mvalue\u001b[0m\u001b[0;34m)\u001b[0m\u001b[0;34m\u001b[0m\u001b[0;34m\u001b[0m\u001b[0m\n\u001b[1;32m   3601\u001b[0m         \u001b[0;32melif\u001b[0m \u001b[0misinstance\u001b[0m\u001b[0;34m(\u001b[0m\u001b[0mvalue\u001b[0m\u001b[0;34m,\u001b[0m \u001b[0mDataFrame\u001b[0m\u001b[0;34m)\u001b[0m\u001b[0;34m:\u001b[0m\u001b[0;34m\u001b[0m\u001b[0;34m\u001b[0m\u001b[0m\n\u001b[0;32m-> 3602\u001b[0;31m             \u001b[0mself\u001b[0m\u001b[0;34m.\u001b[0m\u001b[0m_set_item_frame_value\u001b[0m\u001b[0;34m(\u001b[0m\u001b[0mkey\u001b[0m\u001b[0;34m,\u001b[0m \u001b[0mvalue\u001b[0m\u001b[0;34m)\u001b[0m\u001b[0;34m\u001b[0m\u001b[0;34m\u001b[0m\u001b[0m\n\u001b[0m\u001b[1;32m   3603\u001b[0m         elif (\n\u001b[1;32m   3604\u001b[0m             \u001b[0mis_list_like\u001b[0m\u001b[0;34m(\u001b[0m\u001b[0mvalue\u001b[0m\u001b[0;34m)\u001b[0m\u001b[0;34m\u001b[0m\u001b[0;34m\u001b[0m\u001b[0m\n",
            "\u001b[0;32m/usr/local/lib/python3.7/dist-packages/pandas/core/frame.py\u001b[0m in \u001b[0;36m_set_item_frame_value\u001b[0;34m(self, key, value)\u001b[0m\n\u001b[1;32m   3740\u001b[0m         \u001b[0;31m# now align rows\u001b[0m\u001b[0;34m\u001b[0m\u001b[0;34m\u001b[0m\u001b[0;34m\u001b[0m\u001b[0m\n\u001b[1;32m   3741\u001b[0m         \u001b[0marraylike\u001b[0m \u001b[0;34m=\u001b[0m \u001b[0m_reindex_for_setitem\u001b[0m\u001b[0;34m(\u001b[0m\u001b[0mvalue\u001b[0m\u001b[0;34m,\u001b[0m \u001b[0mself\u001b[0m\u001b[0;34m.\u001b[0m\u001b[0mindex\u001b[0m\u001b[0;34m)\u001b[0m\u001b[0;34m\u001b[0m\u001b[0;34m\u001b[0m\u001b[0m\n\u001b[0;32m-> 3742\u001b[0;31m         \u001b[0mself\u001b[0m\u001b[0;34m.\u001b[0m\u001b[0m_set_item_mgr\u001b[0m\u001b[0;34m(\u001b[0m\u001b[0mkey\u001b[0m\u001b[0;34m,\u001b[0m \u001b[0marraylike\u001b[0m\u001b[0;34m)\u001b[0m\u001b[0;34m\u001b[0m\u001b[0;34m\u001b[0m\u001b[0m\n\u001b[0m\u001b[1;32m   3743\u001b[0m \u001b[0;34m\u001b[0m\u001b[0m\n\u001b[1;32m   3744\u001b[0m     \u001b[0;32mdef\u001b[0m \u001b[0m_iset_item_mgr\u001b[0m\u001b[0;34m(\u001b[0m\u001b[0mself\u001b[0m\u001b[0;34m,\u001b[0m \u001b[0mloc\u001b[0m\u001b[0;34m:\u001b[0m \u001b[0mint\u001b[0m \u001b[0;34m|\u001b[0m \u001b[0mslice\u001b[0m \u001b[0;34m|\u001b[0m \u001b[0mnp\u001b[0m\u001b[0;34m.\u001b[0m\u001b[0mndarray\u001b[0m\u001b[0;34m,\u001b[0m \u001b[0mvalue\u001b[0m\u001b[0;34m)\u001b[0m \u001b[0;34m->\u001b[0m \u001b[0;32mNone\u001b[0m\u001b[0;34m:\u001b[0m\u001b[0;34m\u001b[0m\u001b[0;34m\u001b[0m\u001b[0m\n",
            "\u001b[0;32m/usr/local/lib/python3.7/dist-packages/pandas/core/frame.py\u001b[0m in \u001b[0;36m_set_item_mgr\u001b[0;34m(self, key, value)\u001b[0m\n\u001b[1;32m   3752\u001b[0m         \u001b[0;32mexcept\u001b[0m \u001b[0mKeyError\u001b[0m\u001b[0;34m:\u001b[0m\u001b[0;34m\u001b[0m\u001b[0;34m\u001b[0m\u001b[0m\n\u001b[1;32m   3753\u001b[0m             \u001b[0;31m# This item wasn't present, just insert at end\u001b[0m\u001b[0;34m\u001b[0m\u001b[0;34m\u001b[0m\u001b[0;34m\u001b[0m\u001b[0m\n\u001b[0;32m-> 3754\u001b[0;31m             \u001b[0mself\u001b[0m\u001b[0;34m.\u001b[0m\u001b[0m_mgr\u001b[0m\u001b[0;34m.\u001b[0m\u001b[0minsert\u001b[0m\u001b[0;34m(\u001b[0m\u001b[0mlen\u001b[0m\u001b[0;34m(\u001b[0m\u001b[0mself\u001b[0m\u001b[0;34m.\u001b[0m\u001b[0m_info_axis\u001b[0m\u001b[0;34m)\u001b[0m\u001b[0;34m,\u001b[0m \u001b[0mkey\u001b[0m\u001b[0;34m,\u001b[0m \u001b[0mvalue\u001b[0m\u001b[0;34m)\u001b[0m\u001b[0;34m\u001b[0m\u001b[0;34m\u001b[0m\u001b[0m\n\u001b[0m\u001b[1;32m   3755\u001b[0m         \u001b[0;32melse\u001b[0m\u001b[0;34m:\u001b[0m\u001b[0;34m\u001b[0m\u001b[0;34m\u001b[0m\u001b[0m\n\u001b[1;32m   3756\u001b[0m             \u001b[0mself\u001b[0m\u001b[0;34m.\u001b[0m\u001b[0m_iset_item_mgr\u001b[0m\u001b[0;34m(\u001b[0m\u001b[0mloc\u001b[0m\u001b[0;34m,\u001b[0m \u001b[0mvalue\u001b[0m\u001b[0;34m)\u001b[0m\u001b[0;34m\u001b[0m\u001b[0;34m\u001b[0m\u001b[0m\n",
            "\u001b[0;32m/usr/local/lib/python3.7/dist-packages/pandas/core/internals/managers.py\u001b[0m in \u001b[0;36minsert\u001b[0;34m(self, loc, item, value)\u001b[0m\n\u001b[1;32m   1160\u001b[0m             \u001b[0mvalue\u001b[0m \u001b[0;34m=\u001b[0m \u001b[0mensure_block_shape\u001b[0m\u001b[0;34m(\u001b[0m\u001b[0mvalue\u001b[0m\u001b[0;34m,\u001b[0m \u001b[0mndim\u001b[0m\u001b[0;34m=\u001b[0m\u001b[0mself\u001b[0m\u001b[0;34m.\u001b[0m\u001b[0mndim\u001b[0m\u001b[0;34m)\u001b[0m\u001b[0;34m\u001b[0m\u001b[0;34m\u001b[0m\u001b[0m\n\u001b[1;32m   1161\u001b[0m \u001b[0;34m\u001b[0m\u001b[0m\n\u001b[0;32m-> 1162\u001b[0;31m         \u001b[0mblock\u001b[0m \u001b[0;34m=\u001b[0m \u001b[0mnew_block\u001b[0m\u001b[0;34m(\u001b[0m\u001b[0mvalues\u001b[0m\u001b[0;34m=\u001b[0m\u001b[0mvalue\u001b[0m\u001b[0;34m,\u001b[0m \u001b[0mndim\u001b[0m\u001b[0;34m=\u001b[0m\u001b[0mself\u001b[0m\u001b[0;34m.\u001b[0m\u001b[0mndim\u001b[0m\u001b[0;34m,\u001b[0m \u001b[0mplacement\u001b[0m\u001b[0;34m=\u001b[0m\u001b[0mslice\u001b[0m\u001b[0;34m(\u001b[0m\u001b[0mloc\u001b[0m\u001b[0;34m,\u001b[0m \u001b[0mloc\u001b[0m \u001b[0;34m+\u001b[0m \u001b[0;36m1\u001b[0m\u001b[0;34m)\u001b[0m\u001b[0;34m)\u001b[0m\u001b[0;34m\u001b[0m\u001b[0;34m\u001b[0m\u001b[0m\n\u001b[0m\u001b[1;32m   1163\u001b[0m \u001b[0;34m\u001b[0m\u001b[0m\n\u001b[1;32m   1164\u001b[0m         \u001b[0;32mfor\u001b[0m \u001b[0mblkno\u001b[0m\u001b[0;34m,\u001b[0m \u001b[0mcount\u001b[0m \u001b[0;32min\u001b[0m \u001b[0m_fast_count_smallints\u001b[0m\u001b[0;34m(\u001b[0m\u001b[0mself\u001b[0m\u001b[0;34m.\u001b[0m\u001b[0mblknos\u001b[0m\u001b[0;34m[\u001b[0m\u001b[0mloc\u001b[0m\u001b[0;34m:\u001b[0m\u001b[0;34m]\u001b[0m\u001b[0;34m)\u001b[0m\u001b[0;34m:\u001b[0m\u001b[0;34m\u001b[0m\u001b[0;34m\u001b[0m\u001b[0m\n",
            "\u001b[0;32m/usr/local/lib/python3.7/dist-packages/pandas/core/internals/blocks.py\u001b[0m in \u001b[0;36mnew_block\u001b[0;34m(values, placement, ndim, klass)\u001b[0m\n\u001b[1;32m   1935\u001b[0m \u001b[0;34m\u001b[0m\u001b[0m\n\u001b[1;32m   1936\u001b[0m     \u001b[0mvalues\u001b[0m\u001b[0;34m,\u001b[0m \u001b[0m_\u001b[0m \u001b[0;34m=\u001b[0m \u001b[0mextract_pandas_array\u001b[0m\u001b[0;34m(\u001b[0m\u001b[0mvalues\u001b[0m\u001b[0;34m,\u001b[0m \u001b[0;32mNone\u001b[0m\u001b[0;34m,\u001b[0m \u001b[0mndim\u001b[0m\u001b[0;34m)\u001b[0m\u001b[0;34m\u001b[0m\u001b[0;34m\u001b[0m\u001b[0m\n\u001b[0;32m-> 1937\u001b[0;31m     \u001b[0mcheck_ndim\u001b[0m\u001b[0;34m(\u001b[0m\u001b[0mvalues\u001b[0m\u001b[0;34m,\u001b[0m \u001b[0mplacement\u001b[0m\u001b[0;34m,\u001b[0m \u001b[0mndim\u001b[0m\u001b[0;34m)\u001b[0m\u001b[0;34m\u001b[0m\u001b[0;34m\u001b[0m\u001b[0m\n\u001b[0m\u001b[1;32m   1938\u001b[0m \u001b[0;34m\u001b[0m\u001b[0m\n\u001b[1;32m   1939\u001b[0m     \u001b[0;32mif\u001b[0m \u001b[0mklass\u001b[0m \u001b[0;32mis\u001b[0m \u001b[0;32mNone\u001b[0m\u001b[0;34m:\u001b[0m\u001b[0;34m\u001b[0m\u001b[0;34m\u001b[0m\u001b[0m\n",
            "\u001b[0;32m/usr/local/lib/python3.7/dist-packages/pandas/core/internals/blocks.py\u001b[0m in \u001b[0;36mcheck_ndim\u001b[0;34m(values, placement, ndim)\u001b[0m\n\u001b[1;32m   1978\u001b[0m         \u001b[0;32mif\u001b[0m \u001b[0mlen\u001b[0m\u001b[0;34m(\u001b[0m\u001b[0mplacement\u001b[0m\u001b[0;34m)\u001b[0m \u001b[0;34m!=\u001b[0m \u001b[0mlen\u001b[0m\u001b[0;34m(\u001b[0m\u001b[0mvalues\u001b[0m\u001b[0;34m)\u001b[0m\u001b[0;34m:\u001b[0m\u001b[0;34m\u001b[0m\u001b[0;34m\u001b[0m\u001b[0m\n\u001b[1;32m   1979\u001b[0m             raise ValueError(\n\u001b[0;32m-> 1980\u001b[0;31m                 \u001b[0;34mf\"Wrong number of items passed {len(values)}, \"\u001b[0m\u001b[0;34m\u001b[0m\u001b[0;34m\u001b[0m\u001b[0m\n\u001b[0m\u001b[1;32m   1981\u001b[0m                 \u001b[0;34mf\"placement implies {len(placement)}\"\u001b[0m\u001b[0;34m\u001b[0m\u001b[0;34m\u001b[0m\u001b[0m\n\u001b[1;32m   1982\u001b[0m             )\n",
            "\u001b[0;31mValueError\u001b[0m: Wrong number of items passed 4, placement implies 1"
          ]
        }
      ]
    },
    {
      "cell_type": "code",
      "source": [
        "\n",
        "threshold = retornos.loc[retornos.index[-1]]\n",
        "threshold"
      ],
      "metadata": {
        "colab": {
          "base_uri": "https://localhost:8080/"
        },
        "id": "CzEjIn7aDtfm",
        "outputId": "d157c4fe-83d3-41a7-d335-c5335516d90c"
      },
      "execution_count": 56,
      "outputs": [
        {
          "output_type": "execute_result",
          "data": {
            "text/plain": [
              "BTC-USD    -0.207865\n",
              "ETH-USD    -0.229248\n",
              "LTC-USD    -0.350482\n",
              "USDT-USD   -0.000097\n",
              "Name: 2021-12-01 00:00:00, dtype: float64"
            ]
          },
          "metadata": {},
          "execution_count": 56
        }
      ]
    },
    {
      "cell_type": "markdown",
      "source": [
        "##Simulación de Montecarlo"
      ],
      "metadata": {
        "id": "sYNqmODxnX8d"
      }
    },
    {
      "cell_type": "code",
      "source": [
        "w = cp.Variable(n)\n",
        "risk = cp.quad_form(w,cov)\n",
        "objective =cp. Minimize(risk)\n",
        "constraints = [cp.sum(w)==1, w>=0]\n",
        "opt = cp.Problem(objective, constraints)\n",
        "opt.solve()\n",
        "wpmvg = w.value\n",
        "ret_port = retornos @ wpmvg\n",
        "plt.hist(ret_port, bins=30)\n",
        "plt.show"
      ],
      "metadata": {
        "colab": {
          "base_uri": "https://localhost:8080/",
          "height": 285
        },
        "id": "0uOTScBenoYE",
        "outputId": "bd1450d0-e9bc-4d0e-efbe-a63f89a52ea6"
      },
      "execution_count": null,
      "outputs": [
        {
          "output_type": "execute_result",
          "data": {
            "text/plain": [
              "<function matplotlib.pyplot.show(*args, **kw)>"
            ]
          },
          "metadata": {},
          "execution_count": 4
        },
        {
          "output_type": "display_data",
          "data": {
            "text/plain": [
              "<Figure size 432x288 with 1 Axes>"
            ],
            "image/png": "[encoded data removed]"
          },
          "metadata": {
            "needs_background": "light"
          }
        }
      ]
    },
    {
      "cell_type": "code",
      "source": [
        "rp = ret_port.mean() #Diario\n",
        "sigmap = ret_port.std()\n",
        "rp, sigmap\n",
        "plt.hist(ret_port, bins=30, density=True)\n",
        "#Percentiles de la distribución normal\n",
        "xmin, xmax = plt.xlim()\n",
        "xmin, xmax \n",
        "x = np.linspace (xmin,xmax,100)\n",
        "px =norm.pdf(x,rp,sigmap)\n",
        "plt.plot(x,px,\"r\")"
      ],
      "metadata": {
        "colab": {
          "base_uri": "https://localhost:8080/",
          "height": 282
        },
        "id": "JbSkWLarn2z2",
        "outputId": "63ea17c1-0501-4946-94a1-8a06215fce18"
      },
      "execution_count": null,
      "outputs": [
        {
          "output_type": "execute_result",
          "data": {
            "text/plain": [
              "[<matplotlib.lines.Line2D at 0x7fa70a157e10>]"
            ]
          },
          "metadata": {},
          "execution_count": 33
        },
        {
          "output_type": "display_data",
          "data": {
            "text/plain": [
              "<Figure size 432x288 with 1 Axes>"
            ],
            "image/png": "[encoded data removed]"
          },
          "metadata": {
            "needs_background": "light"
          }
        }
      ]
    },
    {
      "cell_type": "code",
      "source": [
        "frp = Fitter(ret_port, distributions=get_common_distributions())\n",
        "frp.fit()\n",
        "frp.summary()"
      ],
      "metadata": {
        "colab": {
          "base_uri": "https://localhost:8080/",
          "height": 471
        },
        "id": "e_rU_dnYn_RU",
        "outputId": "de0a0df1-13b0-47d1-e194-226d71cddbdb"
      },
      "execution_count": null,
      "outputs": [
        {
          "output_type": "stream",
          "name": "stderr",
          "text": [
            "Fitting 10 distributions: 100%|██████████| 10/10 [00:00<00:00, 16.13it/s]\n"
          ]
        },
        {
          "output_type": "execute_result",
          "data": {
            "text/plain": [
              "          sumsquare_error         aic         bic  kl_div  ks_statistic  \\\n",
              "cauchy        4126.164420  148.357159  309.206133     inf      0.060671   \n",
              "lognorm      45618.665763  422.347508  493.746274     inf      0.261039   \n",
              "chi2         45817.126809  426.949156  494.071849     inf      0.263575   \n",
              "norm         46432.176089  501.386784  490.754464     inf      0.278855   \n",
              "exponpow     55807.442866 -115.554711  508.865545     inf      0.364448   \n",
              "\n",
              "             ks_pvalue  \n",
              "cauchy    9.295614e-01  \n",
              "lognorm   5.355751e-05  \n",
              "chi2      4.353673e-05  \n",
              "norm      1.194390e-05  \n",
              "exponpow  1.954448e-09  "
            ],
            "text/html": [
              "\n",
              "  <div id=\"df-6135e24d-fff7-4ca6-93ad-2b5ab9db7686\">\n",
              "    <div class=\"colab-df-container\">\n",
              "      <div>\n",
              "<style scoped>\n",
              "    .dataframe tbody tr th:only-of-type {\n",
              "        vertical-align: middle;\n",
              "    }\n",
              "\n",
              "    .dataframe tbody tr th {\n",
              "        vertical-align: top;\n",
              "    }\n",
              "\n",
              "    .dataframe thead th {\n",
              "        text-align: right;\n",
              "    }\n",
              "</style>\n",
              "<table border=\"1\" class=\"dataframe\">\n",
              "  <thead>\n",
              "    <tr style=\"text-align: right;\">\n",
              "      <th></th>\n",
              "      <th>sumsquare_error</th>\n",
              "      <th>aic</th>\n",
              "      <th>bic</th>\n",
              "      <th>kl_div</th>\n",
              "      <th>ks_statistic</th>\n",
              "      <th>ks_pvalue</th>\n",
              "    </tr>\n",
              "  </thead>\n",
              "  <tbody>\n",
              "    <tr>\n",
              "      <th>cauchy</th>\n",
              "      <td>4126.164420</td>\n",
              "      <td>148.357159</td>\n",
              "      <td>309.206133</td>\n",
              "      <td>inf</td>\n",
              "      <td>0.060671</td>\n",
              "      <td>9.295614e-01</td>\n",
              "    </tr>\n",
              "    <tr>\n",
              "      <th>lognorm</th>\n",
              "      <td>45618.665763</td>\n",
              "      <td>422.347508</td>\n",
              "      <td>493.746274</td>\n",
              "      <td>inf</td>\n",
              "      <td>0.261039</td>\n",
              "      <td>5.355751e-05</td>\n",
              "    </tr>\n",
              "    <tr>\n",
              "      <th>chi2</th>\n",
              "      <td>45817.126809</td>\n",
              "      <td>426.949156</td>\n",
              "      <td>494.071849</td>\n",
              "      <td>inf</td>\n",
              "      <td>0.263575</td>\n",
              "      <td>4.353673e-05</td>\n",
              "    </tr>\n",
              "    <tr>\n",
              "      <th>norm</th>\n",
              "      <td>46432.176089</td>\n",
              "      <td>501.386784</td>\n",
              "      <td>490.754464</td>\n",
              "      <td>inf</td>\n",
              "      <td>0.278855</td>\n",
              "      <td>1.194390e-05</td>\n",
              "    </tr>\n",
              "    <tr>\n",
              "      <th>exponpow</th>\n",
              "      <td>55807.442866</td>\n",
              "      <td>-115.554711</td>\n",
              "      <td>508.865545</td>\n",
              "      <td>inf</td>\n",
              "      <td>0.364448</td>\n",
              "      <td>1.954448e-09</td>\n",
              "    </tr>\n",
              "  </tbody>\n",
              "</table>\n",
              "</div>\n",
              "      <button class=\"colab-df-convert\" onclick=\"convertToInteractive('df-6135e24d-fff7-4ca6-93ad-2b5ab9db7686')\"\n",
              "              title=\"Convert this dataframe to an interactive table.\"\n",
              "              style=\"display:none;\">\n",
              "        \n",
              "  <svg xmlns=\"http://www.w3.org/2000/svg\" height=\"24px\"viewBox=\"0 0 24 24\"\n",
              "       width=\"24px\">\n",
              "    <path d=\"M0 0h24v24H0V0z\" fill=\"none\"/>\n",
              "    <path d=\"M18.56 5.44l.94 2.06.94-2.06 2.06-.94-2.06-.94-.94-2.06-.94 2.06-2.06.94zm-11 1L8.5 8.5l.94-2.06 2.06-.94-2.06-.94L8.5 2.5l-.94 2.06-2.06.94zm10 10l.94 2.06.94-2.06 2.06-.94-2.06-.94-.94-2.06-.94 2.06-2.06.94z\"/><path d=\"M17.41 7.96l-1.37-1.37c-.4-.4-.92-.59-1.43-.59-.52 0-1.04.2-1.43.59L10.3 9.45l-7.72 7.72c-.78.78-.78 2.05 0 2.83L4 21.41c.39.39.9.59 1.41.59.51 0 1.02-.2 1.41-.59l7.78-7.78 2.81-2.81c.8-.78.8-2.07 0-2.86zM5.41 20L4 18.59l7.72-7.72 1.47 1.35L5.41 20z\"/>\n",
              "  </svg>\n",
              "      </button>\n",
              "      \n",
              "  <style>\n",
              "    .colab-df-container {\n",
              "      display:flex;\n",
              "      flex-wrap:wrap;\n",
              "      gap: 12px;\n",
              "    }\n",
              "\n",
              "    .colab-df-convert {\n",
              "      background-color: #E8F0FE;\n",
              "      border: none;\n",
              "      border-radius: 50%;\n",
              "      cursor: pointer;\n",
              "      display: none;\n",
              "      fill: #1967D2;\n",
              "      height: 32px;\n",
              "      padding: 0 0 0 0;\n",
              "      width: 32px;\n",
              "    }\n",
              "\n",
              "    .colab-df-convert:hover {\n",
              "      background-color: #E2EBFA;\n",
              "      box-shadow: 0px 1px 2px rgba(60, 64, 67, 0.3), 0px 1px 3px 1px rgba(60, 64, 67, 0.15);\n",
              "      fill: #174EA6;\n",
              "    }\n",
              "\n",
              "    [theme=dark] .colab-df-convert {\n",
              "      background-color: #3B4455;\n",
              "      fill: #D2E3FC;\n",
              "    }\n",
              "\n",
              "    [theme=dark] .colab-df-convert:hover {\n",
              "      background-color: #434B5C;\n",
              "      box-shadow: 0px 1px 3px 1px rgba(0, 0, 0, 0.15);\n",
              "      filter: drop-shadow(0px 1px 2px rgba(0, 0, 0, 0.3));\n",
              "      fill: #FFFFFF;\n",
              "    }\n",
              "  </style>\n",
              "\n",
              "      <script>\n",
              "        const buttonEl =\n",
              "          document.querySelector('#df-6135e24d-fff7-4ca6-93ad-2b5ab9db7686 button.colab-df-convert');\n",
              "        buttonEl.style.display =\n",
              "          google.colab.kernel.accessAllowed ? 'block' : 'none';\n",
              "\n",
              "        async function convertToInteractive(key) {\n",
              "          const element = document.querySelector('#df-6135e24d-fff7-4ca6-93ad-2b5ab9db7686');\n",
              "          const dataTable =\n",
              "            await google.colab.kernel.invokeFunction('convertToInteractive',\n",
              "                                                     [key], {});\n",
              "          if (!dataTable) return;\n",
              "\n",
              "          const docLinkHtml = 'Like what you see? Visit the ' +\n",
              "            '<a target=\"_blank\" href=https://colab.research.google.com/notebooks/data_table.ipynb>data table notebook</a>'\n",
              "            + ' to learn more about interactive tables.';\n",
              "          element.innerHTML = '';\n",
              "          dataTable['output_type'] = 'display_data';\n",
              "          await google.colab.output.renderOutput(dataTable, element);\n",
              "          const docLink = document.createElement('div');\n",
              "          docLink.innerHTML = docLinkHtml;\n",
              "          element.appendChild(docLink);\n",
              "        }\n",
              "      </script>\n",
              "    </div>\n",
              "  </div>\n",
              "  "
            ]
          },
          "metadata": {},
          "execution_count": 6
        },
        {
          "output_type": "display_data",
          "data": {
            "text/plain": [
              "<Figure size 432x288 with 1 Axes>"
            ],
            "image/png": "[encoded data removed]"
          },
          "metadata": {
            "needs_background": "light"
          }
        }
      ]
    },
    {
      "cell_type": "code",
      "source": [
        "frp.get_best(method = 'sumsquare_error')"
      ],
      "metadata": {
        "colab": {
          "base_uri": "https://localhost:8080/"
        },
        "id": "XkytJcwMwacd",
        "outputId": "76a80859-164d-48e1-a3f7-7f9ea4572b69"
      },
      "execution_count": null,
      "outputs": [
        {
          "output_type": "execute_result",
          "data": {
            "text/plain": [
              "{'cauchy': {'loc': 0.00012604585740899572, 'scale': 0.0015679586712088603}}"
            ]
          },
          "metadata": {},
          "execution_count": 35
        }
      ]
    },
    {
      "cell_type": "markdown",
      "source": [
        "Por el criterio BIC, luego de realizar la simulación de Montecarlo para obtener los datos, se escoge la distribución cauchy que representa mejor los datos. El parámetro de ubicación es 0.0012604585740899572, que hace referencia a la mediana de la muestra, y el parámetro de escala es 0.0015679586712088603, que hace referencia a un tipo de curtosis."
      ],
      "metadata": {
        "id": "19dI_U2QrtyF"
      }
    },
    {
      "cell_type": "markdown",
      "source": [
        "##Simulación proceso estocástico movimiento geométrico browniano"
      ],
      "metadata": {
        "id": "_QcOJWmvgYzL"
      }
    },
    {
      "cell_type": "code",
      "source": [
        "def PathsGBM(S0,mu,sigma,T,NS,M):    \n",
        "    Z = np.random.normal(0.0,1.0,[NS,M])\n",
        "    S = np.zeros([NS, M+1])\n",
        "    S[:,0] = S0\n",
        "    dt = T / M\n",
        "    for t in range(0,M):\n",
        "        S[:,t+1] = S[:,t] * np.exp((mu - 0.5 * sigma ** 2) * dt + sigma * np.sqrt(dt) *Z[:,t])\n",
        "    St = S # {\"S\":S} \n",
        "    return St"
      ],
      "metadata": {
        "id": "GYlP4aIDiLEw"
      },
      "execution_count": null,
      "outputs": []
    },
    {
      "cell_type": "markdown",
      "source": [
        "##Pesos"
      ],
      "metadata": {
        "id": "C2mYcrgKkvZB"
      }
    },
    {
      "cell_type": "code",
      "source": [
        "\n",
        "def random_portfolios(n_portfolios, mu, cov, rf):\n",
        "    medidas = np.zeros((3,n_portfolios))\n",
        "    weight_array = []\n",
        "    for i in range(n_portfolios):\n",
        "      weights = np.random.random(4)\n",
        "      weights /= np.sum(weights)\n",
        "      weight_array.append(weights)\n",
        "      retorno = np.sum(mu*weights ) * 12\n",
        "      std_dev = np.sqrt(np.dot(weights.T, np.dot(cov, weights))) * np.sqrt(12)\n",
        "      medidas[0,i] = std_dev\n",
        "      medidas[1,i] = retorno\n",
        "      # Sharpe ratio\n",
        "      medidas[2,i] = (retorno - rf) / std_dev\n",
        "    return weights\n",
        "pesos=random_portfolios(n_portfolios,mu, cov,  rf)\n",
        "S0=np.dot(pesos,precios.iloc[-1])\n",
        "mu = retornos.mean()\n",
        "mu=np.dot(pesos,mu)\n",
        "sigma=np.dot(pesos,sigma)\n",
        "S0"
      ],
      "metadata": {
        "id": "S5hzx7ol3Equ",
        "outputId": "1fdec215-3ffe-4b8c-cce4-36d5b68b1b71",
        "colab": {
          "base_uri": "https://localhost:8080/"
        }
      },
      "execution_count": null,
      "outputs": [
        {
          "output_type": "execute_result",
          "data": {
            "text/plain": [
              "10228.553407238169"
            ]
          },
          "metadata": {},
          "execution_count": 20
        }
      ]
    },
    {
      "cell_type": "code",
      "source": [
        "mu = retornos.mean()\n",
        "mu=np.dot(pesos,mu)\n",
        "sigma"
      ],
      "metadata": {
        "colab": {
          "base_uri": "https://localhost:8080/"
        },
        "id": "QtGEqROU7E7I",
        "outputId": "e7a07e69-58ed-41c4-e417-a106290a8375"
      },
      "execution_count": null,
      "outputs": [
        {
          "output_type": "execute_result",
          "data": {
            "text/plain": [
              "0.16945996711457853"
            ]
          },
          "metadata": {},
          "execution_count": 21
        }
      ]
    },
    {
      "cell_type": "markdown",
      "source": [
        "##10.000 trayectorias con T = 1 año"
      ],
      "metadata": {
        "id": "lD4Itc6Ck1jD"
      }
    },
    {
      "cell_type": "code",
      "source": [
        "T = 1\n",
        "sigma = sigma\n",
        "mu = mu\n",
        "S0 = S0\n",
        "NS = 10000\n",
        "M = 12\n",
        "St = PathsGBM(S0,mu,sigma,T,NS,M)\n",
        "St"
      ],
      "metadata": {
        "colab": {
          "base_uri": "https://localhost:8080/"
        },
        "id": "JnyVsANyiqEJ",
        "outputId": "03d04f1a-f979-4de4-b683-450610b00140"
      },
      "execution_count": null,
      "outputs": [
        {
          "output_type": "execute_result",
          "data": {
            "text/plain": [
              "array([[10228.55340724, 10763.57030963, 10983.80998258, ...,\n",
              "        10348.97122705,  9646.29907735,  9382.34495222],\n",
              "       [10228.55340724, 10229.89875403, 10002.68129024, ...,\n",
              "         9540.15668195,  9097.15458541,  9133.09318232],\n",
              "       [10228.55340724,  9891.28800754, 10086.79426492, ...,\n",
              "        11851.25373804, 11170.52427573, 11315.6266722 ],\n",
              "       ...,\n",
              "       [10228.55340724, 10195.46328092,  9895.79810319, ...,\n",
              "         9245.30907507,  9267.79099037,  9460.26883932],\n",
              "       [10228.55340724, 10066.20291144, 10523.24602297, ...,\n",
              "        10492.1850214 , 10926.79121069, 11247.07762617],\n",
              "       [10228.55340724,  9880.85564855, 10471.21853809, ...,\n",
              "        13131.85031102, 13870.61700773, 13808.35517228]])"
            ]
          },
          "metadata": {},
          "execution_count": 22
        }
      ]
    },
    {
      "cell_type": "code",
      "source": [
        "#Primeras 20 trayectorias\n",
        "plt.plot(np.transpose(St[0:20,:])) \n",
        "plt.xlabel(\"Tiempo\")\n",
        "plt.ylabel(\"S(t)\")"
      ],
      "metadata": {
        "id": "GCTNFWkUlzhy",
        "colab": {
          "base_uri": "https://localhost:8080/",
          "height": 296
        },
        "outputId": "a27cef99-b1e7-4aac-cc1f-7dc68ab29e6c"
      },
      "execution_count": null,
      "outputs": [
        {
          "output_type": "execute_result",
          "data": {
            "text/plain": [
              "Text(0, 0.5, 'S(t)')"
            ]
          },
          "metadata": {},
          "execution_count": 23
        },
        {
          "output_type": "display_data",
          "data": {
            "text/plain": [
              "<Figure size 432x288 with 1 Axes>"
            ],
            "image/png": "[encoded data removed]"
          },
          "metadata": {
            "needs_background": "light"
          }
        }
      ]
    },
    {
      "cell_type": "code",
      "source": [
        "S0 * np.exp(mu*T)\n",
        "#Probabilidad de que los retornos del portafolio sean inferiores a cero\n",
        "prob = pd.DataFrame(retornos.iloc[-1,:] < 0).value_counts() / NS\n",
        "prob"
      ],
      "metadata": {
        "colab": {
          "base_uri": "https://localhost:8080/"
        },
        "id": "ku6PwyEPkYoG",
        "outputId": "5dd22db4-64d7-4c53-ee01-27cfab3b297b"
      },
      "execution_count": null,
      "outputs": [
        {
          "output_type": "execute_result",
          "data": {
            "text/plain": [
              "2021-12-01 00:00:00\n",
              "True                   0.0004\n",
              "dtype: float64"
            ]
          },
          "metadata": {},
          "execution_count": 38
        }
      ]
    },
    {
      "cell_type": "markdown",
      "source": [
        "Según los resultados, la probabilidad de que los retornos del portafolio de criptos sea menor a 0, es de 0,04%, por lo cual se recomienda invertir."
      ],
      "metadata": {
        "id": "AG_-0OnQ06VI"
      }
    },
    {
      "cell_type": "code",
      "source": [
        "#las distribuciones del precio para las criptos elegidas\n",
        "plt.subplot(2, 2, 1)\n",
        "precios['BTC-USD'].plot()\n",
        "plt.subplot(2, 2, 2)\n",
        "precios['ETH-USD'].plot()\n",
        "plt.subplot(2, 2, 3)\n",
        "precios['LTC-USD'].plot()\n",
        "plt.subplot(2, 2, 4)\n",
        "precios['USDT-USD'].plot()\n",
        "plt.show()"
      ],
      "metadata": {
        "colab": {
          "base_uri": "https://localhost:8080/",
          "height": 279
        },
        "id": "WUovh9XC9L7V",
        "outputId": "1ea8ba51-85c3-4ba5-a8bb-f56ed3d006e4"
      },
      "execution_count": null,
      "outputs": [
        {
          "output_type": "display_data",
          "data": {
            "text/plain": [
              "<Figure size 432x288 with 4 Axes>"
            ],
            "image/png": "[encoded data removed]"
          },
          "metadata": {
            "needs_background": "light"
          }
        }
      ]
    },
    {
      "cell_type": "code",
      "source": [
        "#Grafica de los retornos\n",
        "plt.subplot(2, 2, 1)\n",
        "plt.hist(retornos['BTC-USD'],bins=10)\n",
        "plt.subplot(2, 2, 2)\n",
        "plt.hist(retornos['ETH-USD'],bins=10)\n",
        "plt.subplot(2, 2, 3)\n",
        "plt.hist(retornos['LTC-USD'],bins=10)\n",
        "plt.subplot(2, 2, 4)\n",
        "plt.hist(retornos['USDT-USD'],bins=10)\n",
        "plt.show()"
      ],
      "metadata": {
        "colab": {
          "base_uri": "https://localhost:8080/",
          "height": 265
        },
        "id": "4bXrKGKT-uPi",
        "outputId": "84abc5a9-9c85-4ff2-a789-99731a910082"
      },
      "execution_count": null,
      "outputs": [
        {
          "output_type": "display_data",
          "data": {
            "text/plain": [
              "<Figure size 432x288 with 4 Axes>"
            ],
            "image/png": "[encoded data removed]"
          },
          "metadata": {
            "needs_background": "light"
          }
        }
      ]
    },
    {
      "cell_type": "code",
      "source": [
        "# Portafolio de mínima varianza global de Markowitz para las criptos\n",
        "def pmvg(cov, ones):  \n",
        "    cov_inv = np.linalg.inv(cov)  \n",
        "    w = np.dot(cov_inv, ones)  \n",
        "    return w / np.sum(w) \n",
        "\n",
        "unos = np.repeat(1,n)\n",
        "wpmvg = pmvg(cov, unos)\n",
        "\n",
        "fig = plt.figure(figsize = (5, 4))\n",
        "plt.bar(assets, wpmvg, width = 0.4)\n",
        "plt.ylabel(\"Part. (%)\")\n",
        "plt.show()"
      ],
      "metadata": {
        "colab": {
          "base_uri": "https://localhost:8080/",
          "height": 265
        },
        "id": "-S0IwJt0sM4s",
        "outputId": "d9b3ad75-45ee-4f66-d445-9929adbbd07e"
      },
      "execution_count": null,
      "outputs": [
        {
          "output_type": "display_data",
          "data": {
            "text/plain": [
              "<Figure size 360x288 with 1 Axes>"
            ],
            "image/png": "[encoded data removed]"
          },
          "metadata": {
            "needs_background": "light"
          }
        }
      ]
    },
    {
      "cell_type": "code",
      "source": [
        "# Portafolio de máximo Sharpe para las criptos\n",
        "def pmsharpe(cov, mu, rf):  \n",
        "    r = mu - rf \n",
        "    z = np.linalg.solve(cov,r) \n",
        "    return z / np.sum(z) \n",
        "\n",
        "rf = 0\n",
        "wpt = pmsharpe(cov, mu, rf)\n",
        "fig = plt.figure(figsize = (5, 4))\n",
        "plt.bar(assets, wpt, width = 0.4)\n",
        "plt.ylabel(\"Part. (%)\")\n",
        "plt.show()"
      ],
      "metadata": {
        "colab": {
          "base_uri": "https://localhost:8080/",
          "height": 265
        },
        "id": "Xn6mW4et_0as",
        "outputId": "617faa77-1f61-4780-9145-def06304fb4d"
      },
      "execution_count": null,
      "outputs": [
        {
          "output_type": "display_data",
          "data": {
            "text/plain": [
              "<Figure size 360x288 with 1 Axes>"
            ],
            "image/png": "[encoded data removed]"
          },
          "metadata": {
            "needs_background": "light"
          }
        }
      ]
    },
    {
      "cell_type": "code",
      "source": [
        "wpt"
      ],
      "metadata": {
        "colab": {
          "base_uri": "https://localhost:8080/"
        },
        "id": "VzFzyX_-94na",
        "outputId": "374e2e4b-26a1-483b-cc06-6743687eb3e0"
      },
      "execution_count": null,
      "outputs": [
        {
          "output_type": "execute_result",
          "data": {
            "text/plain": [
              "array([-0.25387107, -0.11375149,  0.16286905,  1.20475351])"
            ]
          },
          "metadata": {},
          "execution_count": 14
        }
      ]
    },
    {
      "cell_type": "markdown",
      "source": [
        "# Generación de portfolios cripto: aleatorios y tangente\n",
        "## Portafolio de máx. Sharpe"
      ],
      "metadata": {
        "id": "0U6Kkg8uvfoL"
      }
    },
    {
      "cell_type": "code",
      "source": [
        "def random_portfolios(n_portfolios, mu, cov, rf):\n",
        "    medidas = np.zeros((3,n_portfolios))\n",
        "    weight_array = []\n",
        "    for i in range(n_portfolios):\n",
        "      weights = np.random.random(4)\n",
        "      weights /= np.sum(weights)\n",
        "      weight_array.append(weights)\n",
        "      retorno = np.sum(mu*weights ) * 12\n",
        "      std_dev = np.sqrt(np.dot(weights.T, np.dot(cov, weights))) * np.sqrt(12)\n",
        "      medidas[0,i] = std_dev\n",
        "      medidas[1,i] = retorno\n",
        "      # Sharpe ratio\n",
        "      medidas[2,i] = (retorno - rf) / std_dev\n",
        "    return medidas , weight_array, weights"
      ],
      "metadata": {
        "id": "B8UmWlnkvhoj"
      },
      "execution_count": null,
      "outputs": []
    },
    {
      "cell_type": "code",
      "source": [
        "# Number of portfolios to simulate\n",
        "n_portfolios = 10000\n",
        "rf = 0.0"
      ],
      "metadata": {
        "id": "ce8eAfSIv4Hd"
      },
      "execution_count": null,
      "outputs": []
    },
    {
      "cell_type": "code",
      "source": [
        "random_portfolios(n_portfolios,mu, cov,  rf)"
      ],
      "metadata": {
        "colab": {
          "base_uri": "https://localhost:8080/"
        },
        "id": "MVxo1Mrz43w4",
        "outputId": "f4391332-323a-458b-a264-de6b839a6088"
      },
      "execution_count": null,
      "outputs": [
        {
          "output_type": "execute_result",
          "data": {
            "text/plain": [
              "(array([[0.72780005, 0.79956024, 0.6909375 , ..., 0.86594485, 0.70573607,\n",
              "         0.83971179],\n",
              "        [0.75446077, 0.81546415, 0.71304906, ..., 0.9799061 , 0.65981415,\n",
              "         0.91687527],\n",
              "        [1.03663192, 1.01989083, 1.03200225, ..., 1.13160335, 0.93493047,\n",
              "         1.09189281]]),\n",
              " [array([0.33219566, 0.20251429, 0.31849502, 0.14679503]),\n",
              "  array([0.21436653, 0.30316745, 0.35614907, 0.12631695]),\n",
              "  array([0.12183998, 0.32815624, 0.26234726, 0.28765653]),\n",
              "  array([0.23008334, 0.10966235, 0.37277898, 0.28747533]),\n",
              "  array([0.29317725, 0.39219404, 0.00574878, 0.30887994]),\n",
              "  array([0.15887961, 0.66309171, 0.07959042, 0.09843827]),\n",
              "  array([0.22553811, 0.07505419, 0.27468708, 0.42472062]),\n",
              "  array([0.20183082, 0.20005459, 0.37148606, 0.22662853]),\n",
              "  array([0.20268225, 0.3407071 , 0.18743616, 0.26917449]),\n",
              "  array([0.53118829, 0.16178676, 0.28418668, 0.02283827]),\n",
              "  array([0.14642105, 0.28947552, 0.11574304, 0.4483604 ]),\n",
              "  array([0.41311983, 0.11689657, 0.40136552, 0.06861808]),\n",
              "  array([0.30162415, 0.35160647, 0.08166096, 0.26510843]),\n",
              "  array([0.1959357 , 0.34825566, 0.05359601, 0.40221262]),\n",
              "  array([0.09418148, 0.48568668, 0.33140701, 0.08872483]),\n",
              "  array([0.43132318, 0.03763699, 0.20545261, 0.32558722]),\n",
              "  array([0.33120151, 0.1233062 , 0.33359807, 0.21189422]),\n",
              "  array([0.03892296, 0.57528387, 0.26509455, 0.12069861]),\n",
              "  array([0.20196076, 0.2902176 , 0.2981497 , 0.20967194]),\n",
              "  array([0.09097306, 0.62215232, 0.07864951, 0.20822511]),\n",
              "  array([0.23114536, 0.15262527, 0.32100962, 0.29521975]),\n",
              "  array([0.14691182, 0.213209  , 0.48816565, 0.15171353]),\n",
              "  array([0.32271544, 0.05651978, 0.25289952, 0.36786526]),\n",
              "  array([0.27768716, 0.29020801, 0.21148044, 0.2206244 ]),\n",
              "  array([0.1715391 , 0.49802488, 0.08641606, 0.24401995]),\n",
              "  array([0.33889172, 0.22743154, 0.24758567, 0.18609107]),\n",
              "  array([0.21014801, 0.25913286, 0.29092742, 0.23979171]),\n",
              "  array([0.25803607, 0.35052651, 0.10294303, 0.28849439]),\n",
              "  array([0.20904424, 0.23475221, 0.19756931, 0.35863424]),\n",
              "  array([0.01632146, 0.05983794, 0.50361277, 0.42022783]),\n",
              "  array([0.39498663, 0.27598565, 0.05873438, 0.27029334]),\n",
              "  array([0.23754136, 0.36673591, 0.03921004, 0.3565127 ]),\n",
              "  array([0.01684853, 0.14839017, 0.2578785 , 0.57688279]),\n",
              "  array([0.10674714, 0.09318693, 0.20752019, 0.59254574]),\n",
              "  array([0.29935902, 0.09684511, 0.04086175, 0.56293412]),\n",
              "  array([0.01106073, 0.46728423, 0.10015482, 0.42150022]),\n",
              "  array([0.38806541, 0.05512713, 0.38104205, 0.1757654 ]),\n",
              "  array([0.23936092, 0.45283321, 0.05614861, 0.25165725]),\n",
              "  array([0.20490081, 0.23877693, 0.14513547, 0.41118679]),\n",
              "  array([0.1245439 , 0.29214873, 0.43678276, 0.14652462]),\n",
              "  array([0.36635658, 0.01365816, 0.53662126, 0.083364  ]),\n",
              "  array([0.03170536, 0.13197041, 0.44306784, 0.39325639]),\n",
              "  array([0.32237062, 0.1517727 , 0.27598695, 0.24986973]),\n",
              "  array([0.36724239, 0.40017573, 0.16453796, 0.06804393]),\n",
              "  array([0.01049558, 0.35298249, 0.53178641, 0.10473551]),\n",
              "  array([0.26311818, 0.18611691, 0.08892072, 0.46184419]),\n",
              "  array([0.33013947, 0.17089739, 0.34974503, 0.14921811]),\n",
              "  array([0.07581424, 0.17110815, 0.51622278, 0.23685483]),\n",
              "  array([0.2254567 , 0.31481657, 0.45138511, 0.00834162]),\n",
              "  array([0.02143852, 0.36900382, 0.5323327 , 0.07722495]),\n",
              "  array([0.04394904, 0.12311599, 0.36979812, 0.46313685]),\n",
              "  array([0.28234573, 0.10140145, 0.27051097, 0.34574185]),\n",
              "  array([0.14192907, 0.17689968, 0.60986785, 0.0713034 ]),\n",
              "  array([0.23183616, 0.29631809, 0.35030999, 0.12153576]),\n",
              "  array([0.37716338, 0.27571398, 0.3145717 , 0.03255094]),\n",
              "  array([0.39140629, 0.26874505, 0.11045002, 0.22939864]),\n",
              "  array([0.47236813, 0.0115898 , 0.13964214, 0.37639993]),\n",
              "  array([0.29723478, 0.21376882, 0.1920632 , 0.29693321]),\n",
              "  array([0.03555316, 0.15760767, 0.60099905, 0.20584012]),\n",
              "  array([0.03989221, 0.36439213, 0.32161757, 0.2740981 ]),\n",
              "  array([0.41662968, 0.28061301, 0.20762104, 0.09513628]),\n",
              "  array([0.48605131, 0.22098454, 0.26576953, 0.02719462]),\n",
              "  array([0.37825904, 0.11322163, 0.21023719, 0.29828215]),\n",
              "  array([0.0080764 , 0.39012611, 0.32985041, 0.27194708]),\n",
              "  array([0.47575424, 0.29775567, 0.16526623, 0.06122387]),\n",
              "  array([0.12982143, 0.4735944 , 0.06452409, 0.33206008]),\n",
              "  array([0.29242106, 0.21083702, 0.14733455, 0.34940737]),\n",
              "  array([0.06401166, 0.42945939, 0.20347454, 0.30305441]),\n",
              "  array([0.26707218, 0.15140484, 0.21625208, 0.3652709 ]),\n",
              "  array([0.2614506 , 0.33774861, 0.33508735, 0.06571345]),\n",
              "  array([0.20854251, 0.31928545, 0.13835017, 0.33382186]),\n",
              "  array([0.19084919, 0.3277245 , 0.16843967, 0.31298664]),\n",
              "  array([0.0661005 , 0.40731894, 0.33833288, 0.18824768]),\n",
              "  array([0.41710325, 0.16174155, 0.19068835, 0.23046685]),\n",
              "  array([0.33108765, 0.14138021, 0.5065229 , 0.02100924]),\n",
              "  array([0.31533023, 0.23926923, 0.32152606, 0.12387449]),\n",
              "  array([0.30150411, 0.05731643, 0.31698556, 0.3241939 ]),\n",
              "  array([0.14750237, 0.42172392, 0.06129606, 0.36947764]),\n",
              "  array([0.29795393, 0.10871496, 0.3183514 , 0.27497971]),\n",
              "  array([0.17609734, 0.20260945, 0.04200673, 0.57928648]),\n",
              "  array([0.26269881, 0.15726863, 0.18093784, 0.39909472]),\n",
              "  array([0.27151709, 0.33409193, 0.06471024, 0.32968075]),\n",
              "  array([0.12556068, 0.31348763, 0.28277075, 0.27818093]),\n",
              "  array([0.28068187, 0.29305938, 0.26247029, 0.16378846]),\n",
              "  array([0.30341085, 0.45637102, 0.07786474, 0.1623534 ]),\n",
              "  array([0.21994169, 0.12959563, 0.1905978 , 0.45986488]),\n",
              "  array([0.30885893, 0.28909932, 0.22842109, 0.17362065]),\n",
              "  array([0.52449676, 0.21108748, 0.17050166, 0.09391411]),\n",
              "  array([0.09182352, 0.48079601, 0.03318562, 0.39419485]),\n",
              "  array([0.10274895, 0.0596749 , 0.48605326, 0.35152288]),\n",
              "  array([0.3845389 , 0.02079555, 0.37548115, 0.2191844 ]),\n",
              "  array([0.21343808, 0.43646199, 0.30628561, 0.04381433]),\n",
              "  array([0.41791352, 0.17962822, 0.19688654, 0.20557172]),\n",
              "  array([0.1177925 , 0.36966396, 0.16640586, 0.34613768]),\n",
              "  array([0.13825879, 0.32466288, 0.31143833, 0.22564   ]),\n",
              "  array([0.44924696, 0.15368037, 0.32795571, 0.06911697]),\n",
              "  array([0.04010715, 0.31398814, 0.35717981, 0.28872491]),\n",
              "  array([0.36769847, 0.14055091, 0.22537509, 0.26637553]),\n",
              "  array([0.20465193, 0.31574237, 0.16200527, 0.31760043]),\n",
              "  array([0.11192374, 0.29976133, 0.22876655, 0.35954837]),\n",
              "  array([0.60378789, 0.14130294, 0.18854736, 0.06636181]),\n",
              "  array([0.1825545 , 0.32438078, 0.06536307, 0.42770165]),\n",
              "  array([0.1147229 , 0.38251048, 0.36372064, 0.13904598]),\n",
              "  array([0.39769817, 0.02519687, 0.41300121, 0.16410375]),\n",
              "  array([0.21086158, 0.03705033, 0.40071682, 0.35137128]),\n",
              "  array([0.37662607, 0.36917964, 0.18781701, 0.06637728]),\n",
              "  array([0.24969443, 0.16448974, 0.48003448, 0.10578135]),\n",
              "  array([0.24780907, 0.20112557, 0.27734757, 0.27371779]),\n",
              "  array([0.28789811, 0.40575408, 0.03672067, 0.26962714]),\n",
              "  array([0.26158305, 0.2403964 , 0.36193377, 0.13608678]),\n",
              "  array([0.2598318 , 0.20491221, 0.22197172, 0.31328428]),\n",
              "  array([0.31727762, 0.10610897, 0.3107744 , 0.26583901]),\n",
              "  array([0.28434336, 0.29799252, 0.29431938, 0.12334474]),\n",
              "  array([0.64767935, 0.18568905, 0.10589758, 0.06073402]),\n",
              "  array([0.03219891, 0.39776465, 0.0050905 , 0.56494594]),\n",
              "  array([0.35178536, 0.19185545, 0.25401367, 0.20234552]),\n",
              "  array([0.19238055, 0.31390289, 0.13464939, 0.35906717]),\n",
              "  array([0.01436786, 0.42705467, 0.16854711, 0.39003036]),\n",
              "  array([0.23121226, 0.44202736, 0.24503825, 0.08172214]),\n",
              "  array([0.17773538, 0.12432484, 0.43081654, 0.26712324]),\n",
              "  array([0.10276784, 0.07681679, 0.77779367, 0.0426217 ]),\n",
              "  array([0.11805685, 0.00950242, 0.36715315, 0.50528758]),\n",
              "  array([0.3103966 , 0.23555495, 0.14408705, 0.3099614 ]),\n",
              "  array([0.11900882, 0.13681036, 0.40260691, 0.34157392]),\n",
              "  array([0.37996668, 0.32182869, 0.2460937 , 0.05211093]),\n",
              "  array([0.22331128, 0.3114417 , 0.3627492 , 0.10249782]),\n",
              "  array([0.31371895, 0.20405989, 0.14814155, 0.33407961]),\n",
              "  array([0.19969203, 0.01593954, 0.08501978, 0.69934866]),\n",
              "  array([0.32654104, 0.38050952, 0.25111374, 0.0418357 ]),\n",
              "  array([0.2894707 , 0.07449997, 0.33327684, 0.30275248]),\n",
              "  array([0.36383981, 0.17272004, 0.17712145, 0.2863187 ]),\n",
              "  array([0.1790768 , 0.18800009, 0.36127084, 0.27165227]),\n",
              "  array([0.33226607, 0.26422645, 0.17613424, 0.22737324]),\n",
              "  array([0.15490553, 0.09092125, 0.27706593, 0.47710729]),\n",
              "  array([0.35310753, 0.12015554, 0.40661443, 0.1201225 ]),\n",
              "  array([0.28795051, 0.24964438, 0.15541246, 0.30699264]),\n",
              "  array([0.08869167, 0.29735676, 0.21654463, 0.39740694]),\n",
              "  array([0.05198088, 0.35687337, 0.05975527, 0.53139049]),\n",
              "  array([0.00405042, 0.25323997, 0.26670553, 0.47600408]),\n",
              "  array([0.51107993, 0.00612876, 0.26216408, 0.22062723]),\n",
              "  array([0.1541698, 0.3753148, 0.3552341, 0.1152813]),\n",
              "  array([0.27054795, 0.61464798, 0.01444161, 0.10036246]),\n",
              "  array([0.10403812, 0.11217901, 0.21629233, 0.56749053]),\n",
              "  array([0.02608356, 0.44101162, 0.12956551, 0.40333932]),\n",
              "  array([0.22592957, 0.16650499, 0.32565847, 0.28190697]),\n",
              "  array([0.18780331, 0.2719146 , 0.32794731, 0.21233478]),\n",
              "  array([0.28735899, 0.14901184, 0.49113399, 0.07249517]),\n",
              "  array([0.42737731, 0.15685677, 0.08102047, 0.33474546]),\n",
              "  array([0.11025872, 0.38497482, 0.04732267, 0.4574438 ]),\n",
              "  array([0.09626685, 0.24365028, 0.32496671, 0.33511616]),\n",
              "  array([0.4264919 , 0.11767866, 0.01780017, 0.43802926]),\n",
              "  array([0.55101161, 0.00519147, 0.20234968, 0.24144725]),\n",
              "  array([0.34958562, 0.26795792, 0.34666028, 0.03579618]),\n",
              "  array([0.30067228, 0.21580453, 0.13591086, 0.34761234]),\n",
              "  array([0.16528597, 0.5039549 , 0.14104254, 0.18971659]),\n",
              "  array([0.09234831, 0.42694735, 0.41479758, 0.06590675]),\n",
              "  array([0.36417131, 0.32246461, 0.18864746, 0.12471662]),\n",
              "  array([0.46673624, 0.12380383, 0.0918667 , 0.31759324]),\n",
              "  array([0.58290918, 0.060196  , 0.12663631, 0.23025851]),\n",
              "  array([0.30075297, 0.1759284 , 0.24750097, 0.27581766]),\n",
              "  array([0.21734175, 0.27597169, 0.37024345, 0.13644311]),\n",
              "  array([0.38377817, 0.29174709, 0.09324159, 0.23123315]),\n",
              "  array([0.24655118, 0.29701658, 0.27717307, 0.17925918]),\n",
              "  array([0.10034343, 0.02151087, 0.70855986, 0.16958585]),\n",
              "  array([0.19033728, 0.09950547, 0.51969836, 0.19045889]),\n",
              "  array([0.19929357, 0.2804431 , 0.20521889, 0.31504444]),\n",
              "  array([0.27943608, 0.17514974, 0.22852613, 0.31688805]),\n",
              "  array([0.21085993, 0.36762239, 0.33270725, 0.08881043]),\n",
              "  array([0.36043887, 0.10368054, 0.41318311, 0.12269747]),\n",
              "  array([0.27040903, 0.15974804, 0.19925458, 0.37058835]),\n",
              "  array([0.03647948, 0.37929929, 0.1598113 , 0.42440994]),\n",
              "  array([0.46721354, 0.16180378, 0.28298601, 0.08799667]),\n",
              "  array([0.00875731, 0.46991915, 0.06146596, 0.45985758]),\n",
              "  array([0.31857376, 0.15046939, 0.06548452, 0.46547233]),\n",
              "  array([0.08845739, 0.32566437, 0.35424352, 0.23163471]),\n",
              "  array([0.2267934 , 0.2939829 , 0.31093606, 0.16828764]),\n",
              "  array([0.16438184, 0.47991074, 0.15115039, 0.20455703]),\n",
              "  array([0.2371115 , 0.29804554, 0.17345744, 0.29138552]),\n",
              "  array([0.42344922, 0.2907775 , 0.12275506, 0.16301822]),\n",
              "  array([0.42007311, 0.24566761, 0.32194498, 0.0123143 ]),\n",
              "  array([0.11826824, 0.50871892, 0.28404721, 0.08896563]),\n",
              "  array([0.22959881, 0.04490912, 0.21722331, 0.50826875]),\n",
              "  array([0.00810402, 0.23729842, 0.22019784, 0.53439972]),\n",
              "  array([0.32728886, 0.25250762, 0.14217986, 0.27802366]),\n",
              "  array([0.25968935, 0.150578  , 0.18795087, 0.40178178]),\n",
              "  array([0.36363773, 0.07588101, 0.1871914 , 0.37328985]),\n",
              "  array([0.24185072, 0.26554939, 0.15707128, 0.3355286 ]),\n",
              "  array([0.18243165, 0.30433873, 0.40366774, 0.10956188]),\n",
              "  array([0.08709726, 0.31148035, 0.35874157, 0.24268083]),\n",
              "  array([0.05086794, 0.13392676, 0.41210206, 0.40310325]),\n",
              "  array([0.08022875, 0.02194154, 0.38823917, 0.50959054]),\n",
              "  array([0.09435961, 0.32815585, 0.30777598, 0.26970856]),\n",
              "  array([0.32022739, 0.16421207, 0.27021805, 0.24534248]),\n",
              "  array([0.01513279, 0.29162048, 0.26108298, 0.43216374]),\n",
              "  array([0.27036378, 0.254461  , 0.28274502, 0.19243021]),\n",
              "  array([0.13189055, 0.25095841, 0.41330908, 0.20384196]),\n",
              "  array([0.11497372, 0.4670201 , 0.27796476, 0.14004142]),\n",
              "  array([0.18630551, 0.16937316, 0.58766618, 0.05665515]),\n",
              "  array([0.21782769, 0.22706094, 0.23765314, 0.31745823]),\n",
              "  array([0.25209745, 0.0603562 , 0.36144027, 0.32610608]),\n",
              "  array([0.25785478, 0.33631291, 0.37265933, 0.03317298]),\n",
              "  array([0.27590777, 0.39413488, 0.19425513, 0.13570222]),\n",
              "  array([3.39364442e-01, 5.20843312e-01, 3.24974589e-04, 1.39467271e-01]),\n",
              "  array([0.29455589, 0.36268568, 0.05963765, 0.28312077]),\n",
              "  array([0.19316461, 0.49861094, 0.2690926 , 0.03913185]),\n",
              "  array([0.37562149, 0.19011521, 0.15385726, 0.28040605]),\n",
              "  array([0.20411787, 0.31190218, 0.24184084, 0.24213912]),\n",
              "  array([0.29528479, 0.58597495, 0.10277248, 0.01596778]),\n",
              "  array([0.32402753, 0.14370411, 0.14139471, 0.39087366]),\n",
              "  array([0.50774206, 0.19599849, 0.19429388, 0.10196556]),\n",
              "  array([0.37650993, 0.41928078, 0.1984645 , 0.00574479]),\n",
              "  array([0.0952838 , 0.09126753, 0.22986601, 0.58358265]),\n",
              "  array([0.16912335, 0.19918336, 0.39048178, 0.24121151]),\n",
              "  array([0.26619845, 0.21437038, 0.23703219, 0.28239898]),\n",
              "  array([0.19286158, 0.00172921, 0.53773813, 0.26767109]),\n",
              "  array([0.39660913, 0.35646975, 0.16910851, 0.07781261]),\n",
              "  array([0.13612391, 0.31723232, 0.31715186, 0.22949191]),\n",
              "  array([0.32130895, 0.10739839, 0.28344577, 0.28784689]),\n",
              "  array([0.17240278, 0.16135357, 0.29991032, 0.36633333]),\n",
              "  array([0.22155918, 0.41387929, 0.17713246, 0.18742907]),\n",
              "  array([0.16535833, 0.30102107, 0.30522523, 0.22839537]),\n",
              "  array([0.10551686, 0.45738567, 0.42589598, 0.01120149]),\n",
              "  array([0.38489317, 0.0103221 , 0.28412053, 0.32066421]),\n",
              "  array([0.4833551 , 0.02313326, 0.22637824, 0.2671334 ]),\n",
              "  array([0.18714184, 0.08777801, 0.30361987, 0.42146027]),\n",
              "  array([0.23979131, 0.07592332, 0.26380819, 0.42047719]),\n",
              "  array([0.30057802, 0.37612928, 0.04102447, 0.28226823]),\n",
              "  array([0.33556903, 0.35365694, 0.24139755, 0.06937648]),\n",
              "  array([0.30794966, 0.28299419, 0.24494008, 0.16411606]),\n",
              "  array([0.37156673, 0.17188009, 0.02977144, 0.42678173]),\n",
              "  array([0.16705627, 0.43603321, 0.38302571, 0.01388481]),\n",
              "  array([0.66434779, 0.05448753, 0.0826794 , 0.19848528]),\n",
              "  array([0.33645552, 0.0861772 , 0.39108834, 0.18627895]),\n",
              "  array([0.26286961, 0.34120179, 0.18980607, 0.20612254]),\n",
              "  array([0.41340138, 0.01300522, 0.49843738, 0.07515602]),\n",
              "  array([0.15696231, 0.22299398, 0.4595327 , 0.16051101]),\n",
              "  array([0.23670687, 0.41639724, 0.01458177, 0.33231411]),\n",
              "  array([0.2647727 , 0.22935242, 0.27556496, 0.23030993]),\n",
              "  array([0.33517987, 0.13271946, 0.13581512, 0.39628555]),\n",
              "  array([0.13100819, 0.47284183, 0.11812732, 0.27802265]),\n",
              "  array([0.01766946, 0.52592082, 0.32224225, 0.13416746]),\n",
              "  array([0.14076792, 0.24014711, 0.2732764 , 0.34580856]),\n",
              "  array([0.33670537, 0.25650872, 0.09604585, 0.31074006]),\n",
              "  array([0.22632068, 0.04381611, 0.4789069 , 0.25095631]),\n",
              "  array([0.34598753, 0.00796296, 0.13092532, 0.51512418]),\n",
              "  array([0.49578229, 0.02791965, 0.24516364, 0.23113442]),\n",
              "  array([0.21571365, 0.43709241, 0.22658561, 0.12060833]),\n",
              "  array([0.09082791, 0.36515293, 0.17917613, 0.36484303]),\n",
              "  array([0.4220983 , 0.13933549, 0.29072134, 0.14784487]),\n",
              "  array([0.33705685, 0.08462318, 0.26507122, 0.31324874]),\n",
              "  array([0.37663273, 0.11083127, 0.49818907, 0.01434694]),\n",
              "  array([0.27217091, 0.37020825, 0.08055721, 0.27706363]),\n",
              "  array([0.26547783, 0.27792933, 0.25336831, 0.20322453]),\n",
              "  array([0.16143602, 0.09891226, 0.59411728, 0.14553445]),\n",
              "  array([0.26831476, 0.14251837, 0.30897921, 0.28018766]),\n",
              "  array([0.04471831, 0.5828587 , 0.36059271, 0.01183029]),\n",
              "  array([0.36137118, 0.19278739, 0.21491061, 0.23093082]),\n",
              "  array([0.15415015, 0.13645492, 0.34749655, 0.36189837]),\n",
              "  array([0.03383318, 0.40654253, 0.07472512, 0.48489918]),\n",
              "  array([0.00156329, 0.18256635, 0.3673474 , 0.44852295]),\n",
              "  array([0.12892075, 0.25831531, 0.33570001, 0.27706393]),\n",
              "  array([0.41395677, 0.09781261, 0.24811276, 0.24011786]),\n",
              "  array([0.02897214, 0.39957923, 0.15349474, 0.41795388]),\n",
              "  array([0.31216955, 0.14108294, 0.32455052, 0.222197  ]),\n",
              "  array([0.04180704, 0.06603405, 0.41214652, 0.48001239]),\n",
              "  array([0.29913128, 0.2992026 , 0.24409631, 0.15756981]),\n",
              "  array([2.40280961e-01, 1.24789827e-04, 3.34305438e-01, 4.25288811e-01]),\n",
              "  array([0.2231748 , 0.33429831, 0.22881262, 0.21371427]),\n",
              "  array([0.12684069, 0.4331132 , 0.28674494, 0.15330116]),\n",
              "  array([0.20164719, 0.49112515, 0.12220855, 0.18501911]),\n",
              "  array([0.06840105, 0.29919003, 0.17351974, 0.45888918]),\n",
              "  array([0.20082704, 0.2015048 , 0.28363254, 0.31403562]),\n",
              "  array([0.19891186, 0.26295389, 0.22864794, 0.30948631]),\n",
              "  array([0.19426046, 0.2852529 , 0.22291863, 0.297568  ]),\n",
              "  array([0.19656164, 0.24484326, 0.33382956, 0.22476554]),\n",
              "  array([0.48058835, 0.25709487, 0.17683067, 0.08548611]),\n",
              "  array([0.20616077, 0.28904969, 0.37762457, 0.12716498]),\n",
              "  array([0.22644059, 0.28680479, 0.18998288, 0.29677175]),\n",
              "  array([0.19342429, 0.38560407, 0.24757203, 0.1733996 ]),\n",
              "  array([0.17614617, 0.22807584, 0.33109555, 0.26468244]),\n",
              "  array([0.16822343, 0.46388776, 0.36251794, 0.00537087]),\n",
              "  array([0.13218616, 0.23262834, 0.32363993, 0.31154557]),\n",
              "  array([0.01674076, 0.04021923, 0.31129212, 0.63174789]),\n",
              "  array([0.288909  , 0.20349087, 0.12719464, 0.3804055 ]),\n",
              "  array([0.36976826, 0.0344307 , 0.37862304, 0.21717801]),\n",
              "  array([0.32273818, 0.28156347, 0.24115416, 0.15454419]),\n",
              "  array([0.13502041, 0.59063785, 0.23780676, 0.03653498]),\n",
              "  array([0.24241618, 0.22041518, 0.26846457, 0.26870407]),\n",
              "  array([0.31704589, 0.3217142 , 0.12315748, 0.23808243]),\n",
              "  array([0.14461199, 0.31244798, 0.21693625, 0.32600378]),\n",
              "  array([0.31870524, 0.29090679, 0.243776  , 0.14661198]),\n",
              "  array([0.24932493, 0.36699552, 0.14193557, 0.24174399]),\n",
              "  array([0.0936395 , 0.34714187, 0.15108715, 0.40813148]),\n",
              "  array([0.06033211, 0.22090647, 0.61588447, 0.10287695]),\n",
              "  array([1.34482058e-01, 4.30279557e-04, 1.93550620e-02, 8.45732601e-01]),\n",
              "  array([0.33030884, 0.20752004, 0.15360069, 0.30857044]),\n",
              "  array([0.09284472, 0.15731369, 0.32685382, 0.42298777]),\n",
              "  array([0.42200547, 0.21653046, 0.25757894, 0.10388514]),\n",
              "  array([0.83545385, 0.01218685, 0.04263398, 0.10972532]),\n",
              "  array([0.06748983, 0.50246834, 0.34707048, 0.08297135]),\n",
              "  array([0.13636696, 0.38684715, 0.30867354, 0.16811235]),\n",
              "  array([0.19155026, 0.29912661, 0.28263903, 0.22668409]),\n",
              "  array([0.33806573, 0.21494059, 0.44585068, 0.001143  ]),\n",
              "  array([0.28152929, 0.4594766 , 0.15258168, 0.10641243]),\n",
              "  array([0.27986522, 0.37983946, 0.08498453, 0.25531079]),\n",
              "  array([0.34213465, 0.23551566, 0.18224008, 0.2401096 ]),\n",
              "  array([0.43575186, 0.43739325, 0.12631673, 0.00053817]),\n",
              "  array([0.02502076, 0.26871998, 0.40401771, 0.30224155]),\n",
              "  array([0.54846222, 0.15801786, 0.0601201 , 0.23339982]),\n",
              "  array([0.21447944, 0.45097257, 0.24427001, 0.09027798]),\n",
              "  array([0.28019765, 0.56560741, 0.00109204, 0.15310289]),\n",
              "  array([0.28849962, 0.27761436, 0.16298377, 0.27090225]),\n",
              "  array([0.11508821, 0.23739406, 0.20064939, 0.44686833]),\n",
              "  array([0.28544042, 0.24208608, 0.16910477, 0.30336872]),\n",
              "  array([0.08455634, 0.26071032, 0.49901841, 0.15571493]),\n",
              "  array([0.30742266, 0.02010468, 0.36797583, 0.30449683]),\n",
              "  array([0.30877128, 0.16181363, 0.32031743, 0.20909766]),\n",
              "  array([0.0520458 , 0.34340682, 0.10209744, 0.50244994]),\n",
              "  array([0.16400836, 0.31758461, 0.278391  , 0.24001602]),\n",
              "  array([0.40923548, 0.23762604, 0.08355615, 0.26958233]),\n",
              "  array([0.12715648, 0.70899254, 0.04305684, 0.12079414]),\n",
              "  array([0.2212019 , 0.5073891 , 0.13979174, 0.13161725]),\n",
              "  array([0.0376639 , 0.34746094, 0.42648071, 0.18839445]),\n",
              "  array([0.11345595, 0.17548312, 0.35561712, 0.3554438 ]),\n",
              "  array([0.10262152, 0.28416961, 0.30087184, 0.31233704]),\n",
              "  array([0.04729124, 0.18423955, 0.36168725, 0.40678196]),\n",
              "  array([0.30229078, 0.02308486, 0.48349657, 0.19112778]),\n",
              "  array([0.24546031, 0.39522588, 0.0380637 , 0.32125012]),\n",
              "  array([0.18972354, 0.38834686, 0.37138129, 0.05054831]),\n",
              "  array([0.25647073, 0.16798957, 0.37876596, 0.19677374]),\n",
              "  array([0.15282555, 0.39054776, 0.4036465 , 0.05298019]),\n",
              "  array([0.41465984, 0.1225699 , 0.1751512 , 0.28761906]),\n",
              "  array([0.01611317, 0.06027545, 0.5679628 , 0.35564858]),\n",
              "  array([0.24710049, 0.29228841, 0.19218962, 0.26842148]),\n",
              "  array([0.17925122, 0.22145066, 0.35950649, 0.23979163]),\n",
              "  array([0.26976999, 0.39264926, 0.2907396 , 0.04684115]),\n",
              "  array([0.35102945, 0.28458516, 0.27210868, 0.09227671]),\n",
              "  array([0.35323238, 0.07023156, 0.26983879, 0.30669727]),\n",
              "  array([0.20239666, 0.32406452, 0.26905443, 0.20448438]),\n",
              "  array([0.00125242, 0.60946521, 0.27339315, 0.11588921]),\n",
              "  array([0.21750667, 0.30152158, 0.38403378, 0.09693797]),\n",
              "  array([0.17607291, 0.41925054, 0.35935702, 0.04531953]),\n",
              "  array([0.26033598, 0.15270934, 0.15205986, 0.43489482]),\n",
              "  array([0.35913568, 0.25461611, 0.23864537, 0.14760284]),\n",
              "  array([0.24510922, 0.27051346, 0.20952358, 0.27485374]),\n",
              "  array([0.91951137, 0.00368096, 0.04260205, 0.03420562]),\n",
              "  array([0.05524642, 0.24062649, 0.22798082, 0.47614628]),\n",
              "  array([0.08544727, 0.03549398, 0.32930775, 0.549751  ]),\n",
              "  array([0.05204735, 0.59140684, 0.06376024, 0.29278557]),\n",
              "  array([0.16491135, 0.17664626, 0.26318856, 0.39525383]),\n",
              "  array([0.29282519, 0.07645173, 0.42315953, 0.20756355]),\n",
              "  array([0.01276987, 0.05742478, 0.45706374, 0.47274162]),\n",
              "  array([0.24243072, 0.18998174, 0.46924149, 0.09834605]),\n",
              "  array([0.21925516, 0.17246295, 0.44186591, 0.16641598]),\n",
              "  array([0.38051982, 0.05534325, 0.35171187, 0.21242505]),\n",
              "  array([0.38701235, 0.15833362, 0.29198606, 0.16266797]),\n",
              "  array([0.29373532, 0.41626821, 0.12842919, 0.16156728]),\n",
              "  array([0.20713648, 0.20457387, 0.31635417, 0.27193548]),\n",
              "  array([0.18246452, 0.08685815, 0.34417589, 0.38650145]),\n",
              "  array([0.33228032, 0.31656718, 0.22233384, 0.12881866]),\n",
              "  array([0.6614919 , 0.02229585, 0.23431942, 0.08189283]),\n",
              "  array([0.32728531, 0.00637033, 0.3621632 , 0.30418116]),\n",
              "  array([0.36958526, 0.40298478, 0.18834041, 0.03908955]),\n",
              "  array([0.44569328, 0.16939071, 0.23710511, 0.1478109 ]),\n",
              "  array([0.33830984, 0.12923961, 0.16465775, 0.3677928 ]),\n",
              "  array([0.04762513, 0.71365494, 0.18196601, 0.05675393]),\n",
              "  array([0.21833085, 0.49901741, 0.18616532, 0.09648641]),\n",
              "  array([0.26881993, 0.02782417, 0.30382393, 0.39953198]),\n",
              "  array([0.21448625, 0.53689147, 0.12658912, 0.12203316]),\n",
              "  array([0.28783943, 0.2291452 , 0.35728604, 0.12572933]),\n",
              "  array([0.05656736, 0.03022724, 0.16525005, 0.74795535]),\n",
              "  array([0.23229394, 0.26748726, 0.26419195, 0.23602685]),\n",
              "  array([0.04777377, 0.42221841, 0.06231285, 0.46769498]),\n",
              "  array([0.20282775, 0.03973018, 0.60029981, 0.15714227]),\n",
              "  array([0.02221355, 0.1961978 , 0.40498616, 0.37660248]),\n",
              "  array([0.07552393, 0.33329855, 0.41561781, 0.17555972]),\n",
              "  array([0.12995211, 0.30344307, 0.18950576, 0.37709906]),\n",
              "  array([0.17291674, 0.11826549, 0.19573176, 0.513086  ]),\n",
              "  array([0.07214878, 0.21893849, 0.1698516 , 0.53906112]),\n",
              "  array([0.21658243, 0.36954091, 0.20698508, 0.20689158]),\n",
              "  array([0.38257954, 0.34049304, 0.17123308, 0.10569434]),\n",
              "  array([0.38037639, 0.19654115, 0.23697443, 0.18610803]),\n",
              "  array([0.04538276, 0.39037122, 0.18991979, 0.37432623]),\n",
              "  array([0.34915902, 0.22533688, 0.21902021, 0.2064839 ]),\n",
              "  array([0.24855185, 0.09210393, 0.20034313, 0.45900109]),\n",
              "  array([0.1515765 , 0.11442852, 0.28660609, 0.44738889]),\n",
              "  array([0.07673578, 0.22619976, 0.35778396, 0.33928049]),\n",
              "  array([0.18152652, 0.03141255, 0.59910111, 0.18795982]),\n",
              "  array([0.55207061, 0.39844479, 0.02905367, 0.02043094]),\n",
              "  array([0.18161775, 0.43435098, 0.38194912, 0.00208215]),\n",
              "  array([0.33824864, 0.34079677, 0.15552114, 0.16543345]),\n",
              "  array([0.43459911, 0.12076315, 0.01122859, 0.43340915]),\n",
              "  array([0.19203609, 0.26955174, 0.47529935, 0.06311282]),\n",
              "  array([0.32350281, 0.12427923, 0.2242822 , 0.32793575]),\n",
              "  array([0.28977561, 0.29235073, 0.35046621, 0.06740745]),\n",
              "  array([0.21625774, 0.37220288, 0.2200623 , 0.19147708]),\n",
              "  array([0.34380863, 0.09341555, 0.28167636, 0.28109946]),\n",
              "  array([0.28359078, 0.36952471, 0.28590889, 0.06097562]),\n",
              "  array([0.05611376, 0.46541416, 0.42863028, 0.04984179]),\n",
              "  array([0.26314053, 0.01132629, 0.29158031, 0.43395287]),\n",
              "  array([0.22879213, 0.35925822, 0.32141899, 0.09053066]),\n",
              "  array([0.20368245, 0.24047021, 0.2163155 , 0.33953184]),\n",
              "  array([0.01630088, 0.40679541, 0.25684157, 0.32006215]),\n",
              "  array([0.16372728, 0.35684887, 0.1643949 , 0.31502895]),\n",
              "  array([0.2340824 , 0.14626976, 0.2819395 , 0.33770835]),\n",
              "  array([0.37066682, 0.16801203, 0.36951362, 0.09180753]),\n",
              "  array([0.19372854, 0.14448563, 0.48769806, 0.17408777]),\n",
              "  array([0.54040993, 0.0757541 , 0.21226255, 0.17157341]),\n",
              "  array([0.21218396, 0.22935411, 0.36257348, 0.19588844]),\n",
              "  array([0.05051432, 0.37567793, 0.37367244, 0.20013532]),\n",
              "  array([0.60118565, 0.22292371, 0.16531646, 0.01057418]),\n",
              "  array([0.33730238, 0.03967283, 0.29939919, 0.32362561]),\n",
              "  array([0.61496322, 0.32663846, 0.01001199, 0.04838634]),\n",
              "  array([0.29366264, 0.33490815, 0.12293996, 0.24848926]),\n",
              "  array([0.03758229, 0.17783066, 0.13966158, 0.64492547]),\n",
              "  array([0.33159183, 0.08559265, 0.27144957, 0.31136595]),\n",
              "  array([0.27449919, 0.15516305, 0.23117864, 0.33915912]),\n",
              "  array([0.15339655, 0.24116653, 0.44425913, 0.16117779]),\n",
              "  array([0.2801195 , 0.37390791, 0.32408847, 0.02188411]),\n",
              "  array([0.08414406, 0.57796621, 0.12046441, 0.21742531]),\n",
              "  array([0.08129803, 0.34942069, 0.24225159, 0.32702968]),\n",
              "  array([0.22540034, 0.15507895, 0.345421  , 0.27409971]),\n",
              "  array([0.3890777 , 0.35852294, 0.08867026, 0.16372909]),\n",
              "  array([0.1821541 , 0.28746401, 0.19718119, 0.3332007 ]),\n",
              "  array([0.30533648, 0.29405479, 0.17079451, 0.22981423]),\n",
              "  array([0.40318124, 0.32929159, 0.16336742, 0.10415975]),\n",
              "  array([0.26431859, 0.03614193, 0.2292766 , 0.47026288]),\n",
              "  array([0.26391774, 0.10585348, 0.24534253, 0.38488626]),\n",
              "  array([0.28391178, 0.26930208, 0.15651932, 0.29026683]),\n",
              "  array([0.31396125, 0.10622979, 0.27396741, 0.30584155]),\n",
              "  array([0.22943897, 0.04372918, 0.39152065, 0.33531121]),\n",
              "  array([0.51261162, 0.0088233 , 0.43174216, 0.04682291]),\n",
              "  array([0.38315675, 0.17880359, 0.06358108, 0.37445858]),\n",
              "  array([0.3836175 , 0.18782697, 0.03173495, 0.39682059]),\n",
              "  array([0.39438509, 0.4711102 , 0.04974082, 0.08476389]),\n",
              "  array([0.0085878 , 0.14782227, 0.59450338, 0.24908656]),\n",
              "  array([0.24556156, 0.27208407, 0.05268512, 0.42966925]),\n",
              "  array([0.47095904, 0.04736607, 0.17496508, 0.30670982]),\n",
              "  array([0.44038553, 0.04319986, 0.05365239, 0.46276222]),\n",
              "  array([0.35286478, 0.31888467, 0.10418645, 0.2240641 ]),\n",
              "  array([0.04454878, 0.43987594, 0.42619362, 0.08938165]),\n",
              "  array([0.10615543, 0.13829891, 0.29914485, 0.45640081]),\n",
              "  array([0.19658867, 0.47492488, 0.00680402, 0.32168242]),\n",
              "  array([0.72314048, 0.08741705, 0.00390402, 0.18553846]),\n",
              "  array([0.19489935, 0.33649771, 0.2233787 , 0.24522424]),\n",
              "  array([0.36483984, 0.21124682, 0.12929619, 0.29461715]),\n",
              "  array([0.03756772, 0.50989214, 0.40536821, 0.04717193]),\n",
              "  array([0.24409707, 0.29188496, 0.06868674, 0.39533123]),\n",
              "  array([0.06552163, 0.23133821, 0.29584793, 0.40729223]),\n",
              "  array([0.00543506, 0.28208692, 0.28018557, 0.43229245]),\n",
              "  array([0.10271983, 0.22437056, 0.25621661, 0.416693  ]),\n",
              "  array([0.12607642, 0.38500454, 0.19503514, 0.2938839 ]),\n",
              "  array([0.25983144, 0.15317881, 0.43026519, 0.15672457]),\n",
              "  array([0.04648616, 0.20847196, 0.70316237, 0.04187951]),\n",
              "  array([0.11564048, 0.53575851, 0.20896754, 0.13963347]),\n",
              "  array([0.25102278, 0.38975735, 0.07269413, 0.28652574]),\n",
              "  array([0.2806649 , 0.2772463 , 0.14351602, 0.29857278]),\n",
              "  array([0.17058399, 0.35156358, 0.27057819, 0.20727424]),\n",
              "  array([0.16332899, 0.15862324, 0.31126753, 0.36678025]),\n",
              "  array([0.2016827 , 0.28575916, 0.27348374, 0.2390744 ]),\n",
              "  array([0.33839467, 0.19067218, 0.04425131, 0.42668183]),\n",
              "  array([0.01699488, 0.45718551, 0.10163404, 0.42418557]),\n",
              "  array([0.17965524, 0.34540954, 0.32533328, 0.14960195]),\n",
              "  array([0.389426  , 0.0696939 , 0.13662004, 0.40426007]),\n",
              "  array([0.38269803, 0.40660701, 0.0269208 , 0.18377417]),\n",
              "  array([0.37650617, 0.2398465 , 0.12475665, 0.25889068]),\n",
              "  array([0.22966766, 0.02483384, 0.31279664, 0.43270185]),\n",
              "  array([0.2367138 , 0.19549491, 0.15774807, 0.41004323]),\n",
              "  array([0.24676141, 0.2142351 , 0.27816334, 0.26084015]),\n",
              "  array([0.49119962, 0.18920193, 0.12210263, 0.19749582]),\n",
              "  array([0.21147852, 0.39102203, 0.3623482 , 0.03515126]),\n",
              "  array([0.0134032 , 0.39809625, 0.25226075, 0.3362398 ]),\n",
              "  array([0.12605115, 0.10001357, 0.49256593, 0.28136935]),\n",
              "  array([0.1614207 , 0.33721387, 0.37592607, 0.12543936]),\n",
              "  array([0.56942471, 0.16571808, 0.14350974, 0.12134747]),\n",
              "  array([0.18728382, 0.32998965, 0.32977104, 0.15295549]),\n",
              "  array([0.29233914, 0.24324074, 0.29242679, 0.17199333]),\n",
              "  array([0.18017035, 0.3806526 , 0.20740946, 0.2317676 ]),\n",
              "  array([0.10870696, 0.2752414 , 0.36166351, 0.25438813]),\n",
              "  array([0.19276178, 0.34596436, 0.12963149, 0.33164237]),\n",
              "  array([0.41848985, 0.33440429, 0.23901905, 0.0080868 ]),\n",
              "  array([0.2025784 , 0.28844166, 0.05935582, 0.44962412]),\n",
              "  array([0.22168878, 0.25693363, 0.26094782, 0.26042978]),\n",
              "  array([0.15107615, 0.42827356, 0.38825899, 0.0323913 ]),\n",
              "  array([0.19348943, 0.51552858, 0.28566932, 0.00531267]),\n",
              "  array([0.3145998 , 0.33368214, 0.16591964, 0.18579841]),\n",
              "  array([0.33146997, 0.08730589, 0.31645308, 0.26477106]),\n",
              "  array([0.62936864, 0.18305479, 0.12964768, 0.05792889]),\n",
              "  array([0.18532627, 0.14317287, 0.47113604, 0.20036482]),\n",
              "  array([0.21679946, 0.45013108, 0.26679321, 0.06627625]),\n",
              "  array([0.51915141, 0.38572616, 0.08504593, 0.0100765 ]),\n",
              "  array([0.06699993, 0.54151097, 0.0404987 , 0.35099041]),\n",
              "  array([0.33797741, 0.31532699, 0.12223879, 0.22445681]),\n",
              "  array([0.09512484, 0.31867041, 0.57591043, 0.01029432]),\n",
              "  array([0.32803078, 0.0303494 , 0.33656934, 0.30505049]),\n",
              "  array([0.01204178, 0.21272794, 0.28886128, 0.486369  ]),\n",
              "  array([0.31335096, 0.30733843, 0.06599378, 0.31331684]),\n",
              "  array([0.0096516 , 0.43711165, 0.10624114, 0.44699561]),\n",
              "  array([0.22251802, 0.31129343, 0.12822977, 0.33795878]),\n",
              "  array([0.51617458, 0.11570655, 0.03198238, 0.3361365 ]),\n",
              "  array([0.18293052, 0.3315754 , 0.07478979, 0.41070429]),\n",
              "  array([0.50230744, 0.29039887, 0.05478381, 0.15250988]),\n",
              "  array([0.3576288 , 0.45670553, 0.0525062 , 0.13315947]),\n",
              "  array([0.17246312, 0.23806957, 0.34463802, 0.24482929]),\n",
              "  array([0.10518017, 0.06606984, 0.27882029, 0.5499297 ]),\n",
              "  array([0.22299133, 0.26026642, 0.14832653, 0.36841571]),\n",
              "  array([0.0437281 , 0.57279666, 0.19441155, 0.18906369]),\n",
              "  array([0.35229527, 0.28161269, 0.06094919, 0.30514285]),\n",
              "  array([0.13180668, 0.02840049, 0.73151228, 0.10828055]),\n",
              "  array([0.17255629, 0.20490579, 0.29927935, 0.32325857]),\n",
              "  array([0.32185828, 0.24052194, 0.17934853, 0.25827125]),\n",
              "  array([0.27788306, 0.38179443, 0.28704157, 0.05328094]),\n",
              "  array([0.50490578, 0.16595303, 0.308203  , 0.02093818]),\n",
              "  array([0.48904516, 0.00472693, 0.29252726, 0.21370064]),\n",
              "  array([0.02180261, 0.06424839, 0.56738485, 0.34656415]),\n",
              "  array([0.2322991 , 0.11236384, 0.37750001, 0.27783706]),\n",
              "  array([0.41672585, 0.03063075, 0.22799277, 0.32465063]),\n",
              "  array([0.24289268, 0.24288556, 0.49215267, 0.02206909]),\n",
              "  array([0.23156469, 0.11799131, 0.38215891, 0.2682851 ]),\n",
              "  array([0.80531754, 0.01059287, 0.06795711, 0.11613247]),\n",
              "  array([0.22446924, 0.05819988, 0.42827089, 0.28905999]),\n",
              "  array([0.05084133, 0.33037995, 0.3047085 , 0.31407022]),\n",
              "  array([0.33851109, 0.1178922 , 0.28320937, 0.26038734]),\n",
              "  array([0.25730375, 0.3387662 , 0.26910345, 0.1348266 ]),\n",
              "  array([0.50235709, 0.15292446, 0.09138965, 0.2533288 ]),\n",
              "  array([0.30802204, 0.29694119, 0.07286323, 0.32217354]),\n",
              "  array([0.30199515, 0.19219244, 0.08894591, 0.41686651]),\n",
              "  array([0.01430538, 0.18124527, 0.32579511, 0.47865424]),\n",
              "  array([0.11594261, 0.35285549, 0.40526366, 0.12593823]),\n",
              "  array([0.0191555 , 0.13173378, 0.17127574, 0.67783498]),\n",
              "  array([0.33814471, 0.32022076, 0.2718361 , 0.06979843]),\n",
              "  array([0.15383957, 0.18163381, 0.44533259, 0.21919403]),\n",
              "  array([0.51872948, 0.02824417, 0.24958251, 0.20344384]),\n",
              "  array([0.28364735, 0.31428619, 0.30944291, 0.09262355]),\n",
              "  array([0.35593021, 0.07599282, 0.09068937, 0.47738761]),\n",
              "  array([0.0764664 , 0.45246065, 0.45339505, 0.0176779 ]),\n",
              "  array([0.20464158, 0.42223138, 0.15314875, 0.2199783 ]),\n",
              "  array([0.2736624 , 0.33579692, 0.04440582, 0.34613485]),\n",
              "  array([0.38606741, 0.24190849, 0.06716358, 0.30486052]),\n",
              "  array([0.22155093, 0.19916535, 0.30204465, 0.27723907]),\n",
              "  array([0.2275329 , 0.31331357, 0.22521584, 0.23393769]),\n",
              "  array([0.04455087, 0.56765411, 0.05757594, 0.33021908]),\n",
              "  array([0.18086351, 0.23181848, 0.31281483, 0.27450317]),\n",
              "  array([0.37390427, 0.26338642, 0.13526724, 0.22744207]),\n",
              "  array([0.08036348, 0.24056016, 0.42472559, 0.25435076]),\n",
              "  array([0.42671992, 0.36104547, 0.15881278, 0.05342182]),\n",
              "  array([0.07454605, 0.31199887, 0.3370256 , 0.27642949]),\n",
              "  array([0.29076693, 0.48555877, 0.00701698, 0.21665732]),\n",
              "  array([0.18970967, 0.10762827, 0.32175299, 0.38090907]),\n",
              "  array([0.01726287, 0.22266203, 0.30076908, 0.45930602]),\n",
              "  array([0.22554257, 0.39129961, 0.11665596, 0.26650186]),\n",
              "  array([0.22072467, 0.27979359, 0.10078088, 0.39870085]),\n",
              "  array([0.33080585, 0.05458047, 0.36357777, 0.25103592]),\n",
              "  array([0.17774945, 0.27462614, 0.38757528, 0.16004914]),\n",
              "  array([0.2968765 , 0.28332269, 0.3041065 , 0.11569431]),\n",
              "  array([0.300836  , 0.46463975, 0.21013953, 0.02438472]),\n",
              "  array([0.0311891 , 0.3321049 , 0.21330369, 0.42340231]),\n",
              "  array([0.15371475, 0.53590398, 0.25504443, 0.05533684]),\n",
              "  array([0.21547665, 0.28902158, 0.37840415, 0.11709763]),\n",
              "  array([0.2747951 , 0.24604328, 0.2794734 , 0.19968821]),\n",
              "  array([0.47816903, 0.19381906, 0.09294399, 0.23506792]),\n",
              "  array([0.02877673, 0.18713934, 0.39368765, 0.39039629]),\n",
              "  array([0.24501677, 0.2409271 , 0.22636036, 0.28769576]),\n",
              "  array([0.23120824, 0.08039449, 0.37850392, 0.30989335]),\n",
              "  array([0.35292166, 0.21743227, 0.20604734, 0.22359873]),\n",
              "  array([0.0492583 , 0.19446148, 0.42472558, 0.33155464]),\n",
              "  array([0.133145  , 0.10480887, 0.36435701, 0.39768912]),\n",
              "  array([0.20992568, 0.29879639, 0.25184358, 0.23943436]),\n",
              "  array([0.45344121, 0.06227043, 0.2399286 , 0.24435976]),\n",
              "  array([0.32322349, 0.18920911, 0.32682941, 0.160738  ]),\n",
              "  array([0.24918393, 0.18142145, 0.17878973, 0.39060488]),\n",
              "  array([0.22038045, 0.24491547, 0.28879084, 0.24591324]),\n",
              "  array([0.26415386, 0.37699275, 0.04956026, 0.30929314]),\n",
              "  array([0.39058142, 0.09886412, 0.26619072, 0.24436374]),\n",
              "  array([0.38481578, 0.03208345, 0.19857482, 0.38452595]),\n",
              "  array([0.38942726, 0.24053492, 0.25231402, 0.11772381]),\n",
              "  array([0.2369174 , 0.33645916, 0.12024075, 0.30638269]),\n",
              "  array([0.40486825, 0.07284126, 0.31621208, 0.2060784 ]),\n",
              "  array([0.07001727, 0.28357898, 0.36945397, 0.27694979]),\n",
              "  array([0.33041236, 0.17097907, 0.18826251, 0.31034606]),\n",
              "  array([0.32206572, 0.20772981, 0.11493381, 0.35527067]),\n",
              "  array([0.03830682, 0.30931389, 0.31539812, 0.33698117]),\n",
              "  array([0.21812105, 0.65064401, 0.05663901, 0.07459593]),\n",
              "  array([0.18915007, 0.20470474, 0.2766158 , 0.32952938]),\n",
              "  array([0.42151027, 0.34068173, 0.16232985, 0.07547815]),\n",
              "  array([0.01108953, 0.45463821, 0.11970506, 0.4145672 ]),\n",
              "  array([0.27142078, 0.18947289, 0.16061129, 0.37849503]),\n",
              "  array([0.45580371, 0.1275452 , 0.30019835, 0.11645274]),\n",
              "  array([0.35236864, 0.35486771, 0.17862171, 0.11414194]),\n",
              "  array([0.26947538, 0.18379257, 0.21029214, 0.33643991]),\n",
              "  array([0.11063071, 0.11822376, 0.39782936, 0.37331617]),\n",
              "  array([0.24319551, 0.13830089, 0.30037115, 0.31813246]),\n",
              "  array([0.06831587, 0.51037206, 0.23917907, 0.18213299]),\n",
              "  array([0.01047131, 0.34664594, 0.22519249, 0.41769027]),\n",
              "  array([0.39679365, 0.27068257, 0.11134752, 0.22117626]),\n",
              "  array([0.3171698 , 0.3519565 , 0.14599528, 0.18487841]),\n",
              "  array([0.09189546, 0.17688163, 0.12948512, 0.6017378 ]),\n",
              "  array([0.38044144, 0.25052737, 0.10271973, 0.26631146]),\n",
              "  array([0.32937194, 0.04668435, 0.37181375, 0.25212997]),\n",
              "  array([0.06131397, 0.12733422, 0.39521081, 0.41614099]),\n",
              "  array([0.19717302, 0.24547878, 0.28444507, 0.27290312]),\n",
              "  array([0.30309216, 0.16470456, 0.46929762, 0.06290566]),\n",
              "  array([0.27734654, 0.01714902, 0.28736915, 0.41813529]),\n",
              "  array([0.28344207, 0.47105402, 0.22689291, 0.01861101]),\n",
              "  array([0.14204908, 0.18461016, 0.26042796, 0.4129128 ]),\n",
              "  array([0.39241677, 0.30674795, 0.29514469, 0.0056906 ]),\n",
              "  array([0.35486864, 0.24682405, 0.17120724, 0.22710007]),\n",
              "  array([0.50203309, 0.23081329, 0.23935933, 0.0277943 ]),\n",
              "  array([0.21211543, 0.36382974, 0.07964883, 0.34440599]),\n",
              "  array([0.25933039, 0.09623938, 0.16807202, 0.4763582 ]),\n",
              "  array([0.10236498, 0.49380817, 0.15612588, 0.24770097]),\n",
              "  array([0.15299942, 0.13641439, 0.33553581, 0.37505038]),\n",
              "  array([0.32563586, 0.22095805, 0.26967554, 0.18373055]),\n",
              "  array([0.1286225 , 0.39722297, 0.16711285, 0.30704167]),\n",
              "  array([0.00354273, 0.33846075, 0.18607442, 0.4719221 ]),\n",
              "  array([0.08632058, 0.4141979 , 0.03335905, 0.46612247]),\n",
              "  array([0.14339686, 0.34883395, 0.33612702, 0.17164217]),\n",
              "  array([0.11499282, 0.30061834, 0.10326356, 0.48112528]),\n",
              "  array([0.41827403, 0.10402068, 0.34657371, 0.13113158]),\n",
              "  array([0.1491022 , 0.16564842, 0.43612517, 0.2491242 ]),\n",
              "  array([0.13969985, 0.05656811, 0.12668769, 0.67704435]),\n",
              "  array([0.02669019, 0.03447289, 0.09058495, 0.84825196]),\n",
              "  array([0.32285787, 0.1020572 , 0.54456948, 0.03051546]),\n",
              "  array([0.35942887, 0.07725156, 0.26010796, 0.30321161]),\n",
              "  array([0.08727967, 0.4390986 , 0.41542652, 0.0581952 ]),\n",
              "  array([0.5437763 , 0.13711533, 0.04808043, 0.27102793]),\n",
              "  array([0.23010625, 0.23887775, 0.21463043, 0.31638557]),\n",
              "  array([0.1517049 , 0.45616143, 0.26656515, 0.12556853]),\n",
              "  array([0.14305682, 0.23323231, 0.25836128, 0.36534959]),\n",
              "  array([0.45364649, 0.08459171, 0.32491635, 0.13684545]),\n",
              "  array([0.02561338, 0.27553031, 0.39932529, 0.29953103]),\n",
              "  array([0.24350681, 0.25855385, 0.25790268, 0.24003666]),\n",
              "  array([0.63429224, 0.05241555, 0.18804296, 0.12524924]),\n",
              "  array([0.25287721, 0.22966098, 0.19250171, 0.3249601 ]),\n",
              "  array([0.0565676 , 0.04717721, 0.7048818 , 0.19137338]),\n",
              "  array([0.11730305, 0.30504869, 0.42842529, 0.14922297]),\n",
              "  array([0.26164475, 0.14100663, 0.32327813, 0.27407049]),\n",
              "  array([0.24104201, 0.45713003, 0.28601684, 0.01581112]),\n",
              "  array([0.37882164, 0.37514453, 0.19079496, 0.05523887]),\n",
              "  array([0.23002937, 0.30687561, 0.42641928, 0.03667573]),\n",
              "  array([0.07275437, 0.28629742, 0.08984507, 0.55110314]),\n",
              "  array([0.17696962, 0.39741215, 0.12939984, 0.29621839]),\n",
              "  array([0.03250959, 0.46468928, 0.18877057, 0.31403056]),\n",
              "  array([0.65368934, 0.11568145, 0.1725038 , 0.05812541]),\n",
              "  array([0.07082037, 0.30935764, 0.38420441, 0.23561757]),\n",
              "  array([0.33508098, 0.34801213, 0.14040756, 0.17649933]),\n",
              "  array([0.04414389, 0.2947923 , 0.27092167, 0.39014214]),\n",
              "  array([0.14735413, 0.2763273 , 0.29117795, 0.28514062]),\n",
              "  array([0.11046728, 0.0672039 , 0.54928235, 0.27304647]),\n",
              "  array([0.07200986, 0.23541916, 0.2002999 , 0.49227108]),\n",
              "  array([0.31126386, 0.15885299, 0.37075249, 0.15913066]),\n",
              "  array([0.13079807, 0.33023106, 0.36338307, 0.1755878 ]),\n",
              "  array([0.26080309, 0.3135726 , 0.04618429, 0.37944001]),\n",
              "  array([0.25999162, 0.32419276, 0.32970377, 0.08611186]),\n",
              "  array([0.00247079, 0.45674976, 0.03642745, 0.504352  ]),\n",
              "  array([0.32312965, 0.40596586, 0.09811932, 0.17278516]),\n",
              "  array([0.28743621, 0.32847804, 0.30628277, 0.07780299]),\n",
              "  array([0.30203575, 0.26870727, 0.23633574, 0.19292124]),\n",
              "  array([0.35164835, 0.30550486, 0.0084485 , 0.33439829]),\n",
              "  array([0.32205267, 0.01978342, 0.40865009, 0.24951382]),\n",
              "  array([0.18582593, 0.36707573, 0.31681616, 0.13028217]),\n",
              "  array([0.17272362, 0.1370124 , 0.53181919, 0.1584448 ]),\n",
              "  array([0.26212845, 0.28562962, 0.26519   , 0.18705193]),\n",
              "  array([0.19875786, 0.6322659 , 0.07372845, 0.09524779]),\n",
              "  array([0.09842864, 0.36283902, 0.44825105, 0.0904813 ]),\n",
              "  array([0.37115754, 0.03441561, 0.37015575, 0.2242711 ]),\n",
              "  array([0.35620946, 0.349733  , 0.00778567, 0.28627187]),\n",
              "  array([0.38521442, 0.29830922, 0.17534439, 0.14113197]),\n",
              "  array([0.44802002, 0.13085219, 0.36680574, 0.05432206]),\n",
              "  array([0.28859408, 0.11149533, 0.23850095, 0.36140965]),\n",
              "  array([0.25757018, 0.20133419, 0.26652331, 0.27457232]),\n",
              "  array([0.30091955, 0.27065673, 0.15542479, 0.27299894]),\n",
              "  array([0.05931632, 0.30120449, 0.31206664, 0.32741254]),\n",
              "  array([0.01529596, 0.20080847, 0.39008789, 0.39380769]),\n",
              "  array([0.16454173, 0.1819503 , 0.28721808, 0.36628989]),\n",
              "  array([0.2562295 , 0.33407317, 0.24965617, 0.16004116]),\n",
              "  array([0.19434564, 0.3545177 , 0.37794498, 0.07319168]),\n",
              "  array([0.24783585, 0.07683527, 0.39810687, 0.27722201]),\n",
              "  array([0.27693675, 0.13740197, 0.26414493, 0.32151636]),\n",
              "  array([0.38440728, 0.30167332, 0.23034519, 0.0835742 ]),\n",
              "  array([0.3784025 , 0.24499222, 0.31661676, 0.05998852]),\n",
              "  array([0.15523931, 0.39170343, 0.21156627, 0.24149099]),\n",
              "  array([0.04063181, 0.39719603, 0.14831642, 0.41385574]),\n",
              "  array([0.0052185 , 0.43262741, 0.3420919 , 0.22006219]),\n",
              "  array([0.3544455 , 0.36341465, 0.01627379, 0.26586606]),\n",
              "  array([0.05709894, 0.31171382, 0.24249216, 0.38869508]),\n",
              "  array([0.15716582, 0.41715509, 0.07666058, 0.34901851]),\n",
              "  array([0.1145635 , 0.22751822, 0.2173462 , 0.44057208]),\n",
              "  array([0.03900093, 0.14503875, 0.34504722, 0.4709131 ]),\n",
              "  array([0.43352586, 0.189002  , 0.27164426, 0.10582789]),\n",
              "  array([0.44973734, 0.24490756, 0.15505806, 0.15029704]),\n",
              "  array([0.29627039, 0.31789377, 0.11721744, 0.2686184 ]),\n",
              "  array([0.2779244 , 0.10381855, 0.23587357, 0.38238348]),\n",
              "  array([0.28254028, 0.10251171, 0.28680018, 0.32814784]),\n",
              "  array([0.29084486, 0.35909223, 0.11815129, 0.23191161]),\n",
              "  array([0.35609555, 0.01170108, 0.11148645, 0.52071692]),\n",
              "  array([0.011408  , 0.33689307, 0.28394607, 0.36775286]),\n",
              "  array([0.38306545, 0.1738659 , 0.22717743, 0.21589122]),\n",
              "  array([0.4031293 , 0.0391458 , 0.23488052, 0.32284438]),\n",
              "  array([0.01428327, 0.21104017, 0.38920933, 0.38546723]),\n",
              "  array([0.16702938, 0.25661734, 0.22486054, 0.35149274]),\n",
              "  array([0.17235227, 0.34705043, 0.05452182, 0.42607547]),\n",
              "  array([0.35009714, 0.34891188, 0.01391388, 0.2870771 ]),\n",
              "  array([0.17646382, 0.3708336 , 0.08799332, 0.36470926]),\n",
              "  array([0.44169029, 0.12701899, 0.24905242, 0.1822383 ]),\n",
              "  array([0.35086828, 0.34288661, 0.15214154, 0.15410358]),\n",
              "  array([0.30289259, 0.34268903, 0.17176348, 0.1826549 ]),\n",
              "  array([0.0188132 , 0.3459271 , 0.42407381, 0.21118588]),\n",
              "  array([0.3235644 , 0.51040308, 0.09484559, 0.07118693]),\n",
              "  array([0.11279923, 0.32877312, 0.26187243, 0.29655521]),\n",
              "  array([0.12421008, 0.26361704, 0.55785406, 0.05431883]),\n",
              "  array([0.52576781, 0.11817179, 0.27973682, 0.07632358]),\n",
              "  array([0.305088  , 0.19088064, 0.18417094, 0.31986042]),\n",
              "  array([0.35469177, 0.22411974, 0.18063802, 0.24055047]),\n",
              "  array([0.35417396, 0.20211602, 0.17171882, 0.27199121]),\n",
              "  array([0.07411734, 0.44875882, 0.09033296, 0.38679089]),\n",
              "  array([0.33729245, 0.13966164, 0.4006877 , 0.1223582 ]),\n",
              "  array([0.13371765, 0.7849982 , 0.00852049, 0.07276367]),\n",
              "  array([0.38030205, 0.2692634 , 0.19479466, 0.15563989]),\n",
              "  array([0.33340217, 0.09474855, 0.1318808 , 0.43996848]),\n",
              "  array([0.47004185, 0.01861922, 0.46183319, 0.04950574]),\n",
              "  array([0.22340649, 0.39283753, 0.00864972, 0.37510626]),\n",
              "  array([0.21526693, 0.28537543, 0.12830599, 0.37105165]),\n",
              "  array([0.21187331, 0.09180111, 0.23511767, 0.46120791]),\n",
              "  array([0.06824234, 0.31549051, 0.45263027, 0.16363688]),\n",
              "  array([0.20891065, 0.49580029, 0.09362959, 0.20165947]),\n",
              "  array([0.24523757, 0.06491656, 0.12645017, 0.5633957 ]),\n",
              "  array([0.17620391, 0.09288246, 0.40323093, 0.3276827 ]),\n",
              "  array([0.39317109, 0.16675439, 0.16341329, 0.27666123]),\n",
              "  array([0.17678445, 0.2527166 , 0.31586196, 0.25463699]),\n",
              "  array([0.28906551, 0.21768384, 0.32020102, 0.17304963]),\n",
              "  array([0.29385155, 0.2897351 , 0.25475427, 0.16165908]),\n",
              "  array([0.43546276, 0.09040784, 0.02349913, 0.45063028]),\n",
              "  array([0.15327884, 0.35517977, 0.17821862, 0.31332278]),\n",
              "  array([0.42738203, 0.16748325, 0.04959843, 0.35553629]),\n",
              "  array([0.38739925, 0.08262727, 0.48501543, 0.04495805]),\n",
              "  array([0.17575404, 0.12243049, 0.45905188, 0.24276359]),\n",
              "  array([0.15958809, 0.34829754, 0.44331623, 0.04879813]),\n",
              "  array([0.00744689, 0.06068823, 0.64430222, 0.28756266]),\n",
              "  array([0.5130458 , 0.41590525, 0.02004121, 0.05100774]),\n",
              "  array([0.01883667, 0.17972771, 0.3882388 , 0.41319682]),\n",
              "  array([0.03013858, 0.12445608, 0.511505  , 0.33390033]),\n",
              "  array([0.2530301 , 0.37106232, 0.00888232, 0.36702526]),\n",
              "  array([0.11054625, 0.36329443, 0.34644402, 0.1797153 ]),\n",
              "  array([0.08749703, 0.27637466, 0.52503802, 0.11109029]),\n",
              "  array([0.29705512, 0.19640418, 0.14033629, 0.36620441]),\n",
              "  array([0.38499416, 0.31196904, 0.2825102 , 0.0205266 ]),\n",
              "  array([0.42906802, 0.24658603, 0.09260094, 0.23174501]),\n",
              "  array([0.14685305, 0.26181628, 0.28150894, 0.30982174]),\n",
              "  array([0.25253958, 0.22871127, 0.24836247, 0.27038668]),\n",
              "  array([0.47861492, 0.02625264, 0.44478254, 0.05034991]),\n",
              "  array([0.28153109, 0.41460207, 0.19199171, 0.11187514]),\n",
              "  array([0.3831651 , 0.22574847, 0.10057543, 0.290511  ]),\n",
              "  array([0.3947655 , 0.14066455, 0.28825661, 0.17631334]),\n",
              "  array([0.39041033, 0.45049786, 0.1160412 , 0.0430506 ]),\n",
              "  array([0.32912479, 0.54254287, 0.05990102, 0.06843132]),\n",
              "  array([0.18143695, 0.36018099, 0.16919248, 0.28918958]),\n",
              "  array([0.40393315, 0.16476189, 0.0590413 , 0.37226366]),\n",
              "  array([0.28837614, 0.09363458, 0.31740397, 0.30058532]),\n",
              "  array([0.14894367, 0.26355055, 0.29634527, 0.29116051]),\n",
              "  array([0.07407659, 0.24196544, 0.30779281, 0.37616516]),\n",
              "  array([0.21800494, 0.10667647, 0.41185138, 0.26346721]),\n",
              "  array([0.22714817, 0.08311296, 0.07396706, 0.6157718 ]),\n",
              "  array([0.35225103, 0.07075838, 0.28583781, 0.29115278]),\n",
              "  array([0.24384828, 0.22376227, 0.17021259, 0.36217686]),\n",
              "  array([0.26222571, 0.09061812, 0.26573311, 0.38142306]),\n",
              "  array([0.27944586, 0.49928493, 0.2161562 , 0.00511301]),\n",
              "  array([0.42263117, 0.39589278, 0.00867191, 0.17280414]),\n",
              "  array([0.19601479, 0.07005082, 0.03575767, 0.69817672]),\n",
              "  array([0.33425291, 0.19141058, 0.07850003, 0.39583649]),\n",
              "  array([0.32385691, 0.31006467, 0.24475653, 0.1213219 ]),\n",
              "  array([0.09022955, 0.24639276, 0.31639393, 0.34698376]),\n",
              "  array([0.33865408, 0.46252315, 0.05211693, 0.14670584]),\n",
              "  array([0.36324978, 0.28432667, 0.17920335, 0.1732202 ]),\n",
              "  array([0.07072572, 0.54383084, 0.31196858, 0.07347486]),\n",
              "  array([0.24030635, 0.39503382, 0.32087964, 0.04378019]),\n",
              "  array([0.29753921, 0.37471987, 0.29040295, 0.03733798]),\n",
              "  array([0.43535134, 0.20223765, 0.3265214 , 0.03588961]),\n",
              "  array([0.14499995, 0.38408434, 0.40689676, 0.06401895]),\n",
              "  array([0.17412409, 0.31090803, 0.43871618, 0.0762517 ]),\n",
              "  array([0.33076463, 0.34223048, 0.14739782, 0.17960707]),\n",
              "  array([0.28569371, 0.21187916, 0.1831357 , 0.31929143]),\n",
              "  array([0.10723741, 0.0889868 , 0.22356958, 0.58020621]),\n",
              "  array([0.4397867 , 0.10189577, 0.23682399, 0.22149353]),\n",
              "  array([0.23008493, 0.06932164, 0.47155656, 0.22903687]),\n",
              "  array([0.2098032 , 0.12524156, 0.15124508, 0.51371016]),\n",
              "  array([0.29261891, 0.34355849, 0.25508712, 0.10873547]),\n",
              "  array([0.25926875, 0.36977721, 0.07023303, 0.300721  ]),\n",
              "  array([0.11726126, 0.41656636, 0.32828214, 0.13789025]),\n",
              "  array([0.32927084, 0.26548973, 0.05878826, 0.34645118]),\n",
              "  array([0.30564916, 0.28956188, 0.06137247, 0.34341648]),\n",
              "  array([0.29263641, 0.234006  , 0.28953844, 0.18381914]),\n",
              "  array([0.09841113, 0.36611291, 0.09031325, 0.44516271]),\n",
              "  array([0.11171292, 0.39860191, 0.23755873, 0.25212645]),\n",
              "  array([0.36678952, 0.10441734, 0.4402965 , 0.08849664]),\n",
              "  array([0.39112181, 0.20063754, 0.27774546, 0.13049519]),\n",
              "  array([0.29440207, 0.01401276, 0.10533767, 0.58624751]),\n",
              "  array([0.25746036, 0.25375395, 0.15514082, 0.33364487]),\n",
              "  array([0.19409062, 0.11731065, 0.32938992, 0.3592088 ]),\n",
              "  array([0.22237655, 0.38927794, 0.0037369 , 0.38460861]),\n",
              "  array([0.10964064, 0.35273396, 0.33462728, 0.20299813]),\n",
              "  array([0.28973715, 0.21118055, 0.43932386, 0.05975845]),\n",
              "  array([0.11666468, 0.05881569, 0.29544753, 0.52907209]),\n",
              "  array([0.24685775, 0.35406394, 0.11015626, 0.28892205]),\n",
              "  array([0.26974635, 0.12524739, 0.23405449, 0.37095176]),\n",
              "  array([0.06290329, 0.21895571, 0.19689284, 0.52124815]),\n",
              "  array([0.10219608, 0.33399203, 0.22080272, 0.34300917]),\n",
              "  array([0.22084071, 0.25921986, 0.31389667, 0.20604275]),\n",
              "  array([0.06716809, 0.31752669, 0.2738871 , 0.34141812]),\n",
              "  array([0.4987585 , 0.41425091, 0.06587725, 0.02111334]),\n",
              "  array([0.07776506, 0.38606851, 0.1596752 , 0.37649122]),\n",
              "  array([0.13896913, 0.13935765, 0.52003135, 0.20164187]),\n",
              "  array([0.25244012, 0.28212181, 0.07367919, 0.39175888]),\n",
              "  array([0.41846887, 0.33625439, 0.11599403, 0.12928271]),\n",
              "  array([0.06482622, 0.27992954, 0.31248048, 0.34276375]),\n",
              "  array([0.25259083, 0.24091801, 0.22716603, 0.27932513]),\n",
              "  array([0.14880363, 0.43830589, 0.14525726, 0.26763322]),\n",
              "  array([0.58999586, 0.07427244, 0.11044802, 0.22528369]),\n",
              "  array([0.06371785, 0.30141382, 0.41012075, 0.22474758]),\n",
              "  array([0.10373779, 0.38096144, 0.13118448, 0.3841163 ]),\n",
              "  array([0.38512744, 0.08816501, 0.41448945, 0.1122181 ]),\n",
              "  array([0.38881239, 0.20456383, 0.10237938, 0.30424441]),\n",
              "  array([0.36836684, 0.12558323, 0.32168958, 0.18436035]),\n",
              "  array([0.15911902, 0.38892707, 0.07569694, 0.37625697]),\n",
              "  array([0.08073406, 0.65249387, 0.25547723, 0.01129483]),\n",
              "  array([0.18655268, 0.22638782, 0.42099467, 0.16606483]),\n",
              "  array([0.18556122, 0.20130733, 0.42965894, 0.18347251]),\n",
              "  array([0.27975355, 0.02370536, 0.38651838, 0.31002271]),\n",
              "  array([0.25750945, 0.31580359, 0.13360408, 0.29308289]),\n",
              "  array([0.23858816, 0.28906497, 0.42283267, 0.0495142 ]),\n",
              "  array([0.3082852 , 0.3257133 , 0.29697095, 0.06903055]),\n",
              "  array([0.29880296, 0.2177427 , 0.41693893, 0.06651541]),\n",
              "  array([0.05957033, 0.23185779, 0.31188608, 0.39668579]),\n",
              "  array([0.35516822, 0.62084181, 0.01146448, 0.01252548]),\n",
              "  array([0.22090193, 0.05831212, 0.4385755 , 0.28221044]),\n",
              "  array([0.59353493, 0.24225137, 0.09978471, 0.064429  ]),\n",
              "  array([0.12227623, 0.35475017, 0.24386214, 0.27911146]),\n",
              "  array([0.41601093, 0.15936367, 0.13277674, 0.29184866]),\n",
              "  array([0.253786  , 0.12472409, 0.34184821, 0.27964171]),\n",
              "  array([0.29169049, 0.14639543, 0.33989799, 0.22201609]),\n",
              "  array([0.01811843, 0.24436707, 0.54566093, 0.19185357]),\n",
              "  array([0.51177474, 0.22998399, 0.09272368, 0.16551759]),\n",
              "  array([0.20931095, 0.31368469, 0.28815736, 0.188847  ]),\n",
              "  array([0.18826021, 0.35461461, 0.35513269, 0.10199249]),\n",
              "  array([0.41593079, 0.09318029, 0.42298607, 0.06790284]),\n",
              "  array([0.24566402, 0.10440084, 0.30460824, 0.3453269 ]),\n",
              "  array([0.26539473, 0.30691093, 0.40570223, 0.02199211]),\n",
              "  array([0.22152032, 0.34405497, 0.27167883, 0.16274588]),\n",
              "  array([0.35709102, 0.04826477, 0.24226338, 0.35238083]),\n",
              "  array([0.49836648, 0.11687393, 0.26843653, 0.11632305]),\n",
              "  array([0.54784115, 0.24378959, 0.20035552, 0.00801374]),\n",
              "  array([0.28219384, 0.13065722, 0.51528375, 0.07186519]),\n",
              "  array([0.34464628, 0.39005963, 0.26199524, 0.00329885]),\n",
              "  array([0.39048699, 0.14225523, 0.09383139, 0.37342638]),\n",
              "  array([0.06579857, 0.33454627, 0.03296053, 0.56669462]),\n",
              "  array([0.14766754, 0.43536812, 0.41352911, 0.00343523]),\n",
              "  array([0.42936415, 0.14834363, 0.35280512, 0.06948711]),\n",
              "  array([0.16110632, 0.33012541, 0.49256854, 0.01619973]),\n",
              "  array([0.27192119, 0.29209432, 0.13184642, 0.30413807]),\n",
              "  array([0.0798085 , 0.39447114, 0.21252988, 0.31319048]),\n",
              "  array([0.1612897 , 0.2942693 , 0.27552858, 0.26891242]),\n",
              "  array([0.17025453, 0.4689802 , 0.31893317, 0.0418321 ]),\n",
              "  array([0.28442278, 0.26289287, 0.0411145 , 0.41156985]),\n",
              "  array([0.1315722 , 0.34190484, 0.45109584, 0.07542712]),\n",
              "  array([0.2745721 , 0.21424622, 0.23006071, 0.28112096]),\n",
              "  array([0.33544361, 0.2173697 , 0.17139869, 0.275788  ]),\n",
              "  array([0.32168549, 0.1884125 , 0.18235222, 0.30754979]),\n",
              "  array([0.26299163, 0.25506284, 0.25387296, 0.22807258]),\n",
              "  array([0.02845167, 0.2378539 , 0.43074099, 0.30295344]),\n",
              "  array([0.0177166 , 0.19772971, 0.313317  , 0.4712367 ]),\n",
              "  array([0.29263504, 0.14555795, 0.26059825, 0.30120876]),\n",
              "  array([0.45244045, 0.25682425, 0.14255103, 0.14818428]),\n",
              "  array([0.16384905, 0.22465337, 0.35324884, 0.25824873]),\n",
              "  array([0.33569575, 0.07272468, 0.30028599, 0.29129358]),\n",
              "  array([0.22232549, 0.29110336, 0.44369435, 0.04287679]),\n",
              "  array([0.19351724, 0.19048612, 0.30026951, 0.31572713]),\n",
              "  array([0.32772804, 0.15620197, 0.28333309, 0.2327369 ]),\n",
              "  array([0.05624743, 0.34341328, 0.40207208, 0.1982672 ]),\n",
              "  array([0.05901503, 0.18604074, 0.33907964, 0.41586459]),\n",
              "  array([0.17951969, 0.19872766, 0.33856975, 0.2831829 ]),\n",
              "  array([0.35945911, 0.31257554, 0.29066935, 0.037296  ]),\n",
              "  array([0.23090217, 0.33289649, 0.04400035, 0.392201  ]),\n",
              "  array([0.56238263, 0.05158209, 0.3160913 , 0.06994398]),\n",
              "  array([0.12196006, 0.52761018, 0.24688761, 0.10354216]),\n",
              "  array([0.03633887, 0.30920498, 0.27811791, 0.37633824]),\n",
              "  array([0.19770629, 0.24621975, 0.19270245, 0.36337151]),\n",
              "  array([0.34438328, 0.1991502 , 0.39954743, 0.05691909]),\n",
              "  array([0.40789775, 0.2915267 , 0.2559077 , 0.04466785]),\n",
              "  array([0.28132029, 0.17215622, 0.10905417, 0.43746932]),\n",
              "  array([0.36412224, 0.19009027, 0.26449464, 0.18129285]),\n",
              "  array([0.45880872, 0.05168664, 0.29617618, 0.19332846]),\n",
              "  array([0.19359355, 0.36514268, 0.38925611, 0.05200767]),\n",
              "  array([0.09638511, 0.27329248, 0.04027177, 0.59005064]),\n",
              "  array([0.4295085 , 0.11110929, 0.3666718 , 0.09271041]),\n",
              "  array([0.2510128 , 0.23891568, 0.42955751, 0.08051401]),\n",
              "  array([0.32591225, 0.01864351, 0.39865917, 0.25678507]),\n",
              "  array([0.35743445, 0.21145465, 0.18494307, 0.24616782]),\n",
              "  array([0.34230426, 0.37353412, 0.11757522, 0.1665864 ]),\n",
              "  array([0.30812429, 0.11889174, 0.38380386, 0.18918011]),\n",
              "  array([0.13124808, 0.14922148, 0.39932469, 0.32020576]),\n",
              "  array([0.15626529, 0.35933606, 0.37984848, 0.10455017]),\n",
              "  array([0.23743391, 0.52160221, 0.11886671, 0.12209716]),\n",
              "  array([0.11293459, 0.42054422, 0.19115714, 0.27536406]),\n",
              "  array([0.32581361, 0.08720424, 0.15120963, 0.43577251]),\n",
              "  array([0.15861734, 0.34330314, 0.32324592, 0.17483361]),\n",
              "  array([0.38170075, 0.16617029, 0.36957946, 0.0825495 ]),\n",
              "  array([0.18787405, 0.39180569, 0.36628318, 0.05403709]),\n",
              "  array([0.20299239, 0.14281086, 0.37582449, 0.27837227]),\n",
              "  array([0.04812415, 0.53502075, 0.20005775, 0.21679736]),\n",
              "  array([0.09258009, 0.01236439, 0.39968751, 0.49536802]),\n",
              "  array([0.33997069, 0.10355223, 0.21578154, 0.34069555]),\n",
              "  array([0.25591834, 0.09885153, 0.33403846, 0.31119168]),\n",
              "  array([0.32636561, 0.1073295 , 0.19843738, 0.36786751]),\n",
              "  array([0.22688626, 0.32155425, 0.0864722 , 0.36508729]),\n",
              "  array([0.18880717, 0.17117612, 0.46319703, 0.17681967]),\n",
              "  array([0.21079115, 0.40264451, 0.3502687 , 0.03629564]),\n",
              "  array([0.34753241, 0.34066693, 0.30649183, 0.00530883]),\n",
              "  array([0.42548449, 0.06617795, 0.20509634, 0.30324122]),\n",
              "  array([0.43094498, 0.16712864, 0.05164269, 0.35028369]),\n",
              "  array([0.43436138, 0.33093105, 0.04609256, 0.18861501]),\n",
              "  array([0.39226597, 0.25830423, 0.08623025, 0.26319955]),\n",
              "  array([0.22122622, 0.34103401, 0.19263569, 0.24510408]),\n",
              "  array([0.11265615, 0.24719194, 0.60118386, 0.03896805]),\n",
              "  array([0.2380114 , 0.53919661, 0.07549349, 0.1472985 ]),\n",
              "  array([0.2927685 , 0.0463745 , 0.03533919, 0.62551781]),\n",
              "  array([0.2573408 , 0.02877101, 0.34113934, 0.37274885]),\n",
              "  array([0.20072882, 0.44300251, 0.29985711, 0.05641156]),\n",
              "  array([0.33104333, 0.27180931, 0.21364604, 0.18350133]),\n",
              "  array([0.27981423, 0.04742209, 0.53160864, 0.14115504]),\n",
              "  array([0.24785618, 0.3320895 , 0.06546269, 0.35459163]),\n",
              "  array([0.2748262 , 0.38726751, 0.03668313, 0.30122316]),\n",
              "  array([0.28632972, 0.23822208, 0.12632833, 0.34911987]),\n",
              "  array([0.39220451, 0.07196311, 0.15083154, 0.38500084]),\n",
              "  array([0.42504319, 0.01227481, 0.30502216, 0.25765984]),\n",
              "  array([0.30691682, 0.26879892, 0.08406652, 0.34021775]),\n",
              "  array([0.32589986, 0.34883127, 0.1153941 , 0.20987477]),\n",
              "  array([0.14692602, 0.26975533, 0.47582563, 0.10749303]),\n",
              "  array([0.21003714, 0.24129449, 0.16273378, 0.38593459]),\n",
              "  array([0.01705471, 0.05267866, 0.74580959, 0.18445704]),\n",
              "  array([0.23704559, 0.16152245, 0.35525128, 0.24618068]),\n",
              "  array([0.47771572, 0.18441394, 0.16069312, 0.17717722]),\n",
              "  array([0.05646977, 0.39555296, 0.28732576, 0.26065151]),\n",
              "  array([0.30779645, 0.65762409, 0.0078219 , 0.02675756]),\n",
              "  array([0.27070675, 0.37141629, 0.08192483, 0.27595213]),\n",
              "  array([0.44455408, 0.11646751, 0.32818877, 0.11078963]),\n",
              "  array([0.07590221, 0.29647814, 0.13130292, 0.49631673]),\n",
              "  array([0.66443046, 0.05120772, 0.03500603, 0.24935578]),\n",
              "  array([0.08843573, 0.28034096, 0.20818045, 0.42304286]),\n",
              "  array([0.10193856, 0.25832626, 0.3141539 , 0.32558128]),\n",
              "  array([0.15817476, 0.20002856, 0.5442014 , 0.09759528]),\n",
              "  array([0.29646375, 0.02761653, 0.47615752, 0.1997622 ]),\n",
              "  array([0.02138387, 0.07238956, 0.31152084, 0.59470573]),\n",
              "  array([0.05909565, 0.40293641, 0.43849467, 0.09947327]),\n",
              "  array([0.40016613, 0.28379235, 0.14700383, 0.16903768]),\n",
              "  array([0.22488682, 0.31229182, 0.1323922 , 0.33042915]),\n",
              "  array([0.15946347, 0.16289551, 0.26501799, 0.41262303]),\n",
              "  array([0.17452912, 0.42876695, 0.04499901, 0.35170492]),\n",
              "  array([0.49821801, 0.00974774, 0.05893762, 0.43309663]),\n",
              "  array([0.13571129, 0.00065077, 0.49830092, 0.36533702]),\n",
              "  array([0.17906118, 0.2499284 , 0.38649383, 0.18451659]),\n",
              "  array([0.38318153, 0.2461173 , 0.30780161, 0.06289957]),\n",
              "  array([0.39298325, 0.42693403, 0.17549413, 0.00458859]),\n",
              "  array([0.09142934, 0.17157748, 0.32521868, 0.4117745 ]),\n",
              "  array([0.14556951, 0.16143812, 0.44170813, 0.25128425]),\n",
              "  array([0.32359487, 0.33364309, 0.18448395, 0.15827809]),\n",
              "  array([0.40365772, 0.04063116, 0.42555168, 0.13015945]),\n",
              "  array([0.20204024, 0.32103957, 0.32805436, 0.14886584]),\n",
              "  array([0.03697094, 0.35970432, 0.2878334 , 0.31549134]),\n",
              "  array([0.00425738, 0.23333613, 0.74804305, 0.01436344]),\n",
              "  array([0.22811368, 0.31705612, 0.23409924, 0.22073096]),\n",
              "  array([0.02343457, 0.40884349, 0.31422319, 0.25349875]),\n",
              "  array([0.32750831, 0.16929555, 0.24209336, 0.26110278]),\n",
              "  array([0.04513081, 0.48701191, 0.40361921, 0.06423807]),\n",
              "  array([0.47256669, 0.25601301, 0.09594907, 0.17547123]),\n",
              "  array([0.43289785, 0.05371069, 0.25616872, 0.25722275]),\n",
              "  array([0.2712297 , 0.0183751 , 0.43811103, 0.27228418]),\n",
              "  array([0.388181  , 0.16184957, 0.30657463, 0.1433948 ]),\n",
              "  array([0.23944674, 0.05544047, 0.29235196, 0.41276083]),\n",
              "  array([0.19086876, 0.26481237, 0.31618018, 0.22813869]),\n",
              "  array([0.30888237, 0.28317002, 0.14772242, 0.2602252 ]),\n",
              "  array([0.09746272, 0.23781439, 0.25743479, 0.40728811]),\n",
              "  array([0.11511647, 0.40695667, 0.29271039, 0.18521646]),\n",
              "  array([0.64419973, 0.05622118, 0.07157396, 0.22800513]),\n",
              "  array([0.25388291, 0.16069394, 0.2168612 , 0.36856195]),\n",
              "  array([0.17720992, 0.34388975, 0.24758373, 0.23131661]),\n",
              "  array([0.23661486, 0.22256096, 0.22817587, 0.31264831]),\n",
              "  array([0.0456227 , 0.27367136, 0.14635077, 0.53435518]),\n",
              "  array([0.00062195, 0.27057854, 0.38083971, 0.3479598 ]),\n",
              "  array([0.34395807, 0.2983627 , 0.11488441, 0.24279482]),\n",
              "  array([0.41832952, 0.01858507, 0.18007674, 0.38300866]),\n",
              "  array([0.17978158, 0.25390298, 0.00549808, 0.56081736]),\n",
              "  array([0.25774682, 0.16928033, 0.43387726, 0.13909559]),\n",
              "  array([0.22447472, 0.42830126, 0.25623485, 0.09098917]),\n",
              "  array([0.49518689, 0.07755661, 0.33127078, 0.09598572]),\n",
              "  array([0.25381513, 0.12202399, 0.35206873, 0.27209214]),\n",
              "  array([0.3833103 , 0.43219855, 0.12234896, 0.06214219]),\n",
              "  array([0.08293446, 0.35988736, 0.33403597, 0.22314221]),\n",
              "  array([0.25130993, 0.24724053, 0.34592747, 0.15552207]),\n",
              "  array([0.03099467, 0.2770615 , 0.28449867, 0.40744516]),\n",
              "  array([0.57392843, 0.09301949, 0.27056545, 0.06248663]),\n",
              "  ...],\n",
              " array([0.29197439, 0.37032865, 0.26665948, 0.07103748]))"
            ]
          },
          "metadata": {},
          "execution_count": 18
        }
      ]
    },
    {
      "cell_type": "markdown",
      "source": [
        "# Remuestreo de portfolios cripto (simulación)\n",
        "## Modelo de Michaud"
      ],
      "metadata": {
        "id": "gMaH_1u_jhCU"
      }
    },
    {
      "cell_type": "code",
      "source": [
        "t = len(retornos)\n",
        "ret_sim = np.random.multivariate_normal(mu,cov,t)\n",
        "mu_sim = ret_sim.mean(axis=0)\n",
        "cov_sim = np.cov(ret_sim.T) \n",
        "sigma_sim = ret_sim.std(axis=0)"
      ],
      "metadata": {
        "id": "gbojd4SAjkSi"
      },
      "execution_count": null,
      "outputs": []
    },
    {
      "cell_type": "code",
      "source": [
        "# Number of portfolios to simulate\n",
        "n_portfolios = 10000\n",
        "wpmvg_sim = np.zeros((n_portfolios, n))\n",
        "for i in range(n_portfolios):\n",
        "  ret_sim = np.random.multivariate_normal(mu,cov,t)\n",
        "  cov_sim = np.cov(ret_sim.T) \n",
        "  wi = pmvg(cov_sim, unos)\n",
        "  wpmvg_sim[i,:] =  wi\n",
        "\n",
        "pesos = wpmvg_sim.mean(axis=0)/np.sum(wpmvg_sim.mean(axis=0))\n",
        "pesos"
      ],
      "metadata": {
        "colab": {
          "base_uri": "https://localhost:8080/"
        },
        "id": "oaMAM3Clqe-W",
        "outputId": "fdd01fb4-3e12-48ef-b70a-34686c9ebb79"
      },
      "execution_count": null,
      "outputs": [
        {
          "output_type": "execute_result",
          "data": {
            "text/plain": [
              "array([-0.02581224, -0.01223395,  0.02741369,  1.01063249])"
            ]
          },
          "metadata": {},
          "execution_count": 31
        }
      ]
    },
    {
      "cell_type": "code",
      "source": [
        "wpmvg"
      ],
      "metadata": {
        "colab": {
          "base_uri": "https://localhost:8080/"
        },
        "id": "LMEQ4aTGslvs",
        "outputId": "69ad77b5-cf1b-41c6-f1b1-1c063a951a59"
      },
      "execution_count": null,
      "outputs": [
        {
          "output_type": "execute_result",
          "data": {
            "text/plain": [
              "array([-0.025856  , -0.01219735,  0.0273988 ,  1.01065456])"
            ]
          },
          "metadata": {},
          "execution_count": 32
        }
      ]
    },
    {
      "cell_type": "markdown",
      "source": [
        "## Fitting empirical distribution"
      ],
      "metadata": {
        "id": "T-uOzvVOI6zK"
      }
    },
    {
      "cell_type": "code",
      "source": [
        "!pip install --quiet fitter\n",
        "from fitter import Fitter, get_common_distributions, get_distributions"
      ],
      "metadata": {
        "id": "zP6IHqK3JAQs"
      },
      "execution_count": null,
      "outputs": []
    },
    {
      "cell_type": "code",
      "source": [
        "ret_act1 = retornos.iloc[:,0]\n",
        "fact1 = Fitter(ret_act1, distributions= ['norm','lognorm','expon','exponpow'])\n",
        "fact1.fit()\n",
        "emp_dist1 = fact1.get_best(method = 'sumsquare_error')\n",
        "emp_dist1"
      ],
      "metadata": {
        "colab": {
          "base_uri": "https://localhost:8080/"
        },
        "id": "z73weLJKK3uh",
        "outputId": "c55c2dc3-6416-49ac-e9ad-fe0b6e9ddadb"
      },
      "execution_count": null,
      "outputs": [
        {
          "output_type": "stream",
          "name": "stderr",
          "text": [
            "Fitting 4 distributions: 100%|██████████| 4/4 [00:00<00:00, 19.41it/s]\n"
          ]
        },
        {
          "output_type": "execute_result",
          "data": {
            "text/plain": [
              "{'lognorm': {'s': 0.42978483444872095,\n",
              "  'loc': -1.0098181378917417,\n",
              "  'scale': 0.9882477030508288}}"
            ]
          },
          "metadata": {},
          "execution_count": 16
        }
      ]
    },
    {
      "cell_type": "code",
      "source": [
        "fact1.summary()"
      ],
      "metadata": {
        "colab": {
          "base_uri": "https://localhost:8080/",
          "height": 425
        },
        "id": "ly5xkugpLX9E",
        "outputId": "5b418ee0-14b5-450f-cf15-39d8320e2211"
      },
      "execution_count": null,
      "outputs": [
        {
          "output_type": "execute_result",
          "data": {
            "text/plain": [
              "          sumsquare_error         aic        bic  kl_div  ks_statistic  \\\n",
              "lognorm         28.154845  309.813412 -16.979109     inf      0.093637   \n",
              "norm            32.166169  346.549251 -14.231342     inf      0.180032   \n",
              "exponpow        33.095450  277.342417  -8.895290     inf      0.141476   \n",
              "expon           39.267411  274.699620  -4.257358     inf      0.251124   \n",
              "\n",
              "          ks_pvalue  \n",
              "lognorm    0.737711  \n",
              "norm       0.068694  \n",
              "exponpow   0.245422  \n",
              "expon      0.002892  "
            ],
            "text/html": [
              "\n",
              "  <div id=\"df-614d1833-bcf0-48ad-98d7-6c1e2791fae6\">\n",
              "    <div class=\"colab-df-container\">\n",
              "      <div>\n",
              "<style scoped>\n",
              "    .dataframe tbody tr th:only-of-type {\n",
              "        vertical-align: middle;\n",
              "    }\n",
              "\n",
              "    .dataframe tbody tr th {\n",
              "        vertical-align: top;\n",
              "    }\n",
              "\n",
              "    .dataframe thead th {\n",
              "        text-align: right;\n",
              "    }\n",
              "</style>\n",
              "<table border=\"1\" class=\"dataframe\">\n",
              "  <thead>\n",
              "    <tr style=\"text-align: right;\">\n",
              "      <th></th>\n",
              "      <th>sumsquare_error</th>\n",
              "      <th>aic</th>\n",
              "      <th>bic</th>\n",
              "      <th>kl_div</th>\n",
              "      <th>ks_statistic</th>\n",
              "      <th>ks_pvalue</th>\n",
              "    </tr>\n",
              "  </thead>\n",
              "  <tbody>\n",
              "    <tr>\n",
              "      <th>lognorm</th>\n",
              "      <td>28.154845</td>\n",
              "      <td>309.813412</td>\n",
              "      <td>-16.979109</td>\n",
              "      <td>inf</td>\n",
              "      <td>0.093637</td>\n",
              "      <td>0.737711</td>\n",
              "    </tr>\n",
              "    <tr>\n",
              "      <th>norm</th>\n",
              "      <td>32.166169</td>\n",
              "      <td>346.549251</td>\n",
              "      <td>-14.231342</td>\n",
              "      <td>inf</td>\n",
              "      <td>0.180032</td>\n",
              "      <td>0.068694</td>\n",
              "    </tr>\n",
              "    <tr>\n",
              "      <th>exponpow</th>\n",
              "      <td>33.095450</td>\n",
              "      <td>277.342417</td>\n",
              "      <td>-8.895290</td>\n",
              "      <td>inf</td>\n",
              "      <td>0.141476</td>\n",
              "      <td>0.245422</td>\n",
              "    </tr>\n",
              "    <tr>\n",
              "      <th>expon</th>\n",
              "      <td>39.267411</td>\n",
              "      <td>274.699620</td>\n",
              "      <td>-4.257358</td>\n",
              "      <td>inf</td>\n",
              "      <td>0.251124</td>\n",
              "      <td>0.002892</td>\n",
              "    </tr>\n",
              "  </tbody>\n",
              "</table>\n",
              "</div>\n",
              "      <button class=\"colab-df-convert\" onclick=\"convertToInteractive('df-614d1833-bcf0-48ad-98d7-6c1e2791fae6')\"\n",
              "              title=\"Convert this dataframe to an interactive table.\"\n",
              "              style=\"display:none;\">\n",
              "        \n",
              "  <svg xmlns=\"http://www.w3.org/2000/svg\" height=\"24px\"viewBox=\"0 0 24 24\"\n",
              "       width=\"24px\">\n",
              "    <path d=\"M0 0h24v24H0V0z\" fill=\"none\"/>\n",
              "    <path d=\"M18.56 5.44l.94 2.06.94-2.06 2.06-.94-2.06-.94-.94-2.06-.94 2.06-2.06.94zm-11 1L8.5 8.5l.94-2.06 2.06-.94-2.06-.94L8.5 2.5l-.94 2.06-2.06.94zm10 10l.94 2.06.94-2.06 2.06-.94-2.06-.94-.94-2.06-.94 2.06-2.06.94z\"/><path d=\"M17.41 7.96l-1.37-1.37c-.4-.4-.92-.59-1.43-.59-.52 0-1.04.2-1.43.59L10.3 9.45l-7.72 7.72c-.78.78-.78 2.05 0 2.83L4 21.41c.39.39.9.59 1.41.59.51 0 1.02-.2 1.41-.59l7.78-7.78 2.81-2.81c.8-.78.8-2.07 0-2.86zM5.41 20L4 18.59l7.72-7.72 1.47 1.35L5.41 20z\"/>\n",
              "  </svg>\n",
              "      </button>\n",
              "      \n",
              "  <style>\n",
              "    .colab-df-container {\n",
              "      display:flex;\n",
              "      flex-wrap:wrap;\n",
              "      gap: 12px;\n",
              "    }\n",
              "\n",
              "    .colab-df-convert {\n",
              "      background-color: #E8F0FE;\n",
              "      border: none;\n",
              "      border-radius: 50%;\n",
              "      cursor: pointer;\n",
              "      display: none;\n",
              "      fill: #1967D2;\n",
              "      height: 32px;\n",
              "      padding: 0 0 0 0;\n",
              "      width: 32px;\n",
              "    }\n",
              "\n",
              "    .colab-df-convert:hover {\n",
              "      background-color: #E2EBFA;\n",
              "      box-shadow: 0px 1px 2px rgba(60, 64, 67, 0.3), 0px 1px 3px 1px rgba(60, 64, 67, 0.15);\n",
              "      fill: #174EA6;\n",
              "    }\n",
              "\n",
              "    [theme=dark] .colab-df-convert {\n",
              "      background-color: #3B4455;\n",
              "      fill: #D2E3FC;\n",
              "    }\n",
              "\n",
              "    [theme=dark] .colab-df-convert:hover {\n",
              "      background-color: #434B5C;\n",
              "      box-shadow: 0px 1px 3px 1px rgba(0, 0, 0, 0.15);\n",
              "      filter: drop-shadow(0px 1px 2px rgba(0, 0, 0, 0.3));\n",
              "      fill: #FFFFFF;\n",
              "    }\n",
              "  </style>\n",
              "\n",
              "      <script>\n",
              "        const buttonEl =\n",
              "          document.querySelector('#df-614d1833-bcf0-48ad-98d7-6c1e2791fae6 button.colab-df-convert');\n",
              "        buttonEl.style.display =\n",
              "          google.colab.kernel.accessAllowed ? 'block' : 'none';\n",
              "\n",
              "        async function convertToInteractive(key) {\n",
              "          const element = document.querySelector('#df-614d1833-bcf0-48ad-98d7-6c1e2791fae6');\n",
              "          const dataTable =\n",
              "            await google.colab.kernel.invokeFunction('convertToInteractive',\n",
              "                                                     [key], {});\n",
              "          if (!dataTable) return;\n",
              "\n",
              "          const docLinkHtml = 'Like what you see? Visit the ' +\n",
              "            '<a target=\"_blank\" href=https://colab.research.google.com/notebooks/data_table.ipynb>data table notebook</a>'\n",
              "            + ' to learn more about interactive tables.';\n",
              "          element.innerHTML = '';\n",
              "          dataTable['output_type'] = 'display_data';\n",
              "          await google.colab.output.renderOutput(dataTable, element);\n",
              "          const docLink = document.createElement('div');\n",
              "          docLink.innerHTML = docLinkHtml;\n",
              "          element.appendChild(docLink);\n",
              "        }\n",
              "      </script>\n",
              "    </div>\n",
              "  </div>\n",
              "  "
            ]
          },
          "metadata": {},
          "execution_count": 34
        },
        {
          "output_type": "display_data",
          "data": {
            "text/plain": [
              "<Figure size 432x288 with 1 Axes>"
            ],
            "image/png": "[encoded data removed]"
          },
          "metadata": {
            "needs_background": "light"
          }
        }
      ]
    },
    {
      "cell_type": "code",
      "source": [
        "ret_act2 = retornos.iloc[:,1]\n",
        "fact2 = Fitter(ret_act2, distributions= ['norm','lognorm','expon','exponpow'])\n",
        "fact2.fit()\n",
        "emp_dist2 = fact2.get_best(method = 'sumsquare_error')\n",
        "emp_dist2"
      ],
      "metadata": {
        "colab": {
          "base_uri": "https://localhost:8080/"
        },
        "id": "NhWKYoJdLjdY",
        "outputId": "98d0a297-651f-4236-f5e9-bbb937cb71c3"
      },
      "execution_count": null,
      "outputs": [
        {
          "output_type": "stream",
          "name": "stderr",
          "text": [
            "Fitting 4 distributions: 100%|██████████| 4/4 [00:00<00:00, 13.03it/s]\n"
          ]
        },
        {
          "output_type": "execute_result",
          "data": {
            "text/plain": [
              "{'lognorm': {'s': 0.14899207408237725,\n",
              "  'loc': -2.3235221575552925,\n",
              "  'scale': 2.410108241255829}}"
            ]
          },
          "metadata": {},
          "execution_count": 35
        }
      ]
    },
    {
      "cell_type": "code",
      "source": [
        "ret_act3 = retornos.iloc[:,2]\n",
        "fact3 = Fitter(ret_act3, distributions= ['norm','lognorm','expon','exponpow'])\n",
        "fact3.fit()\n",
        "emp_dist3 = fact3.get_best(method = 'sumsquare_error')\n",
        "emp_dist3"
      ],
      "metadata": {
        "colab": {
          "base_uri": "https://localhost:8080/"
        },
        "id": "mSbNxmK7MTnK",
        "outputId": "5a6242af-dd7c-4d21-a0e9-a723066023bd"
      },
      "execution_count": null,
      "outputs": [
        {
          "output_type": "stream",
          "name": "stderr",
          "text": [
            "Fitting 4 distributions: 100%|██████████| 4/4 [00:00<00:00, 13.07it/s]\n"
          ]
        },
        {
          "output_type": "execute_result",
          "data": {
            "text/plain": [
              "{'lognorm': {'s': 0.1834507772525375,\n",
              "  'loc': -1.528262569191667,\n",
              "  'scale': 1.5537076334230933}}"
            ]
          },
          "metadata": {},
          "execution_count": 36
        }
      ]
    },
    {
      "cell_type": "code",
      "source": [
        "ret_act4 = retornos.iloc[:,3]\n",
        "fact4 = Fitter(ret_act4, distributions= ['norm','lognorm','expon','exponpow'])\n",
        "fact4.fit()\n",
        "emp_dist4 = fact4.get_best(method = 'sumsquare_error')\n",
        "emp_dist4"
      ],
      "metadata": {
        "colab": {
          "base_uri": "https://localhost:8080/"
        },
        "id": "LreGYBcmMZdn",
        "outputId": "f8cd5a72-d2da-4a5a-8282-647d96afb051"
      },
      "execution_count": null,
      "outputs": [
        {
          "output_type": "stream",
          "name": "stderr",
          "text": [
            "Fitting 4 distributions: 100%|██████████| 4/4 [00:00<00:00, 12.85it/s]\n"
          ]
        },
        {
          "output_type": "execute_result",
          "data": {
            "text/plain": [
              "{'lognorm': {'s': 0.06429615691836889,\n",
              "  'loc': -0.2264214642179629,\n",
              "  'scale': 0.22594746397836826}}"
            ]
          },
          "metadata": {},
          "execution_count": 37
        }
      ]
    },
    {
      "cell_type": "code",
      "source": [],
      "metadata": {
        "id": "C0aTJTHof6eh"
      },
      "execution_count": null,
      "outputs": []
    }
  ]
}